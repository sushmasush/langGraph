{
  "nbformat": 4,
  "nbformat_minor": 0,
  "metadata": {
    "colab": {
      "provenance": [],
      "gpuType": "T4"
    },
    "kernelspec": {
      "name": "python3",
      "display_name": "Python 3"
    },
    "language_info": {
      "name": "python"
    },
    "accelerator": "GPU"
  },
  "cells": [
    {
      "cell_type": "code",
      "execution_count": 1,
      "metadata": {
        "id": "xB-ScNHLdoRK"
      },
      "outputs": [],
      "source": [
        "%%capture --no-stderr\n",
        "%pip install -U langchain langchain_openai langsmith pandas langchain_experimental matplotlib langgraph langchain_core"
      ]
    },
    {
      "cell_type": "markdown",
      "source": [
        "Get the Keys from the collab notebook"
      ],
      "metadata": {
        "id": "d5xfaV_rit9t"
      }
    },
    {
      "cell_type": "code",
      "source": [
        "import getpass\n",
        "import os\n",
        "\n",
        "# Load environment variables from a .env file\n",
        "from google.colab import userdata\n",
        "os.environ[\"OPENAI_API_KEY\"]=userdata.get('OPENAI_API_KEY')\n",
        "os.environ[\"TAVILY_API_KEY\"]=userdata.get('TAVILY_API_KEY')\n",
        "\n",
        "## Langsmith tracking\n",
        "os.environ[\"LANGCHAIN_TRACING_V2\"]=\"true\"\n",
        "os.environ[\"LANGCHAIN_API_KEY\"]=userdata.get('LANGCHAIN_API_KEY')\n",
        "os.environ[\"LANGCHAIN_PROJECT\"]=\"Binary Search Trees\""
      ],
      "metadata": {
        "id": "CgEzgwDqd0YB"
      },
      "execution_count": 3,
      "outputs": []
    },
    {
      "cell_type": "code",
      "source": [
        "from typing import Annotated\n",
        "\n",
        "from langchain_community.tools.tavily_search import TavilySearchResults\n",
        "from langchain_core.tools import tool"
      ],
      "metadata": {
        "id": "8Cp5k9xCes0K"
      },
      "execution_count": 4,
      "outputs": []
    },
    {
      "cell_type": "code",
      "source": [
        "%pip install faiss-cpu  langchain-openai langchain-community"
      ],
      "metadata": {
        "id": "KlSPaIgJkBEt"
      },
      "execution_count": null,
      "outputs": []
    },
    {
      "cell_type": "code",
      "source": [
        "%pip install -q pypdf"
      ],
      "metadata": {
        "colab": {
          "base_uri": "https://localhost:8080/"
        },
        "id": "bHyHU3NckjLy",
        "outputId": "2d3ba90e-116c-4102-fb11-9557b32e691d"
      },
      "execution_count": 6,
      "outputs": [
        {
          "output_type": "stream",
          "name": "stdout",
          "text": [
            "\u001b[?25l   \u001b[90m━━━━━━━━━━━━━━━━━━━━━━━━━━━━━━━━━━━━━━━━\u001b[0m \u001b[32m0.0/294.5 kB\u001b[0m \u001b[31m?\u001b[0m eta \u001b[36m-:--:--\u001b[0m\r\u001b[2K   \u001b[90m━━━━━━━━━━━━━━━━━━━━━━━━━━━━━━━━━━━━━━━━\u001b[0m \u001b[32m294.5/294.5 kB\u001b[0m \u001b[31m11.3 MB/s\u001b[0m eta \u001b[36m0:00:00\u001b[0m\n",
            "\u001b[?25h"
          ]
        }
      ]
    },
    {
      "cell_type": "code",
      "source": [
        "from langchain_community.document_loaders import PyPDFLoader\n",
        "from langchain.text_splitter import RecursiveCharacterTextSplitter\n",
        "from langchain_community.vectorstores import FAISS\n",
        "from langchain.embeddings.openai import OpenAIEmbeddings\n",
        "indexName=\"BinarySearchTrees\""
      ],
      "metadata": {
        "id": "zknfuZ8kaKVW"
      },
      "execution_count": 10,
      "outputs": []
    },
    {
      "cell_type": "markdown",
      "source": [
        "Use this code only when generating the embeddings the first time. If you have the data base folder execute the next cell directly"
      ],
      "metadata": {
        "id": "UtQU1e36i2VT"
      }
    },
    {
      "cell_type": "code",
      "source": [
        "loader = PyPDFLoader(\"data/BinarySearchTrees.pdf\")\n",
        "documents=loader.load()\n",
        "text_splitter=RecursiveCharacterTextSplitter(chunk_size=500,chunk_overlap=100)\n",
        "final_documents=text_splitter.split_documents(documents)\n",
        "embeddings=OpenAIEmbeddings()\n",
        "vecStore=FAISS.from_documents(final_documents,embeddings)\n",
        "# Save the vector DB to your local\n",
        "db =vecStore.save_local(folder_path=\"Database\", index_name=indexName)"
      ],
      "metadata": {
        "colab": {
          "base_uri": "https://localhost:8080/"
        },
        "id": "YltsiEUvgWKE",
        "outputId": "810385bf-f2eb-46b4-8003-0fad48755ce1"
      },
      "execution_count": 10,
      "outputs": [
        {
          "output_type": "stream",
          "name": "stderr",
          "text": [
            "<ipython-input-10-d842f5c8a4c5>:11: LangChainDeprecationWarning: The class `OpenAIEmbeddings` was deprecated in LangChain 0.0.9 and will be removed in 1.0. An updated version of the class exists in the :class:`~langchain-openai package and should be used instead. To use it run `pip install -U :class:`~langchain-openai` and import as `from :class:`~langchain_openai import OpenAIEmbeddings``.\n",
            "  embeddings=OpenAIEmbeddings()\n"
          ]
        }
      ]
    },
    {
      "cell_type": "code",
      "source": [
        "db"
      ],
      "metadata": {
        "colab": {
          "base_uri": "https://localhost:8080/"
        },
        "id": "Bk_vQbxqlK-6",
        "outputId": "6621128e-f13c-45f4-c1a8-0aed5b87f369"
      },
      "execution_count": 12,
      "outputs": [
        {
          "output_type": "execute_result",
          "data": {
            "text/plain": [
              "<langchain_community.vectorstores.faiss.FAISS at 0x7dfd39515450>"
            ]
          },
          "metadata": {},
          "execution_count": 12
        }
      ]
    },
    {
      "cell_type": "code",
      "source": [
        "db=FAISS.load_local(folder_path=\"Database\", index_name=indexName, embeddings=OpenAIEmbeddings(),allow_dangerous_deserialization=True)"
      ],
      "metadata": {
        "colab": {
          "base_uri": "https://localhost:8080/"
        },
        "id": "OdsXiCICk7gS",
        "outputId": "047e3e1c-7198-40ac-e0ad-6f503d943f82"
      },
      "execution_count": 11,
      "outputs": [
        {
          "output_type": "stream",
          "name": "stderr",
          "text": [
            "<ipython-input-11-cc81e16259f7>:1: LangChainDeprecationWarning: The class `OpenAIEmbeddings` was deprecated in LangChain 0.0.9 and will be removed in 1.0. An updated version of the class exists in the :class:`~langchain-openai package and should be used instead. To use it run `pip install -U :class:`~langchain-openai` and import as `from :class:`~langchain_openai import OpenAIEmbeddings``.\n",
            "  db=FAISS.load_local(folder_path=\"Database\", index_name=indexName, embeddings=OpenAIEmbeddings(),allow_dangerous_deserialization=True)\n"
          ]
        }
      ]
    },
    {
      "cell_type": "code",
      "source": [
        "from langchain.tools.retriever import create_retriever_tool\n",
        "retriever=db.as_retriever()\n",
        "retriever_tool=create_retriever_tool(retriever,\"BinarySearchTreesBook\", \"This contains information about binary search tree concepts. Use this to create a study plan and create mock tests when requested by the user.\")"
      ],
      "metadata": {
        "id": "XRg664vnl_Uz"
      },
      "execution_count": 13,
      "outputs": []
    },
    {
      "cell_type": "code",
      "source": [
        "from typing import Annotated\n",
        "from typing_extensions import TypedDict\n",
        "\n",
        "## Langgraph Application\n",
        "from langgraph.graph.message import add_messages\n",
        "class State(TypedDict):\n",
        "  messages:Annotated[list,add_messages]"
      ],
      "metadata": {
        "id": "YmDmLNOeV93d"
      },
      "execution_count": 24,
      "outputs": []
    },
    {
      "cell_type": "code",
      "source": [
        "from langchain_openai import ChatOpenAI\n",
        "llm=ChatOpenAI(model_name=\"gpt-4o\")\n",
        "llm"
      ],
      "metadata": {
        "colab": {
          "base_uri": "https://localhost:8080/"
        },
        "id": "9GH4NTwqWjOB",
        "outputId": "9db12233-9b08-497c-b27b-5474bd730176"
      },
      "execution_count": 25,
      "outputs": [
        {
          "output_type": "execute_result",
          "data": {
            "text/plain": [
              "ChatOpenAI(client=<openai.resources.chat.completions.Completions object at 0x7dfd38539870>, async_client=<openai.resources.chat.completions.AsyncCompletions object at 0x7dfd383e8fa0>, root_client=<openai.OpenAI object at 0x7dfd38522e30>, root_async_client=<openai.AsyncOpenAI object at 0x7dfd3853b640>, model_name='gpt-4o', model_kwargs={}, openai_api_key=SecretStr('**********'))"
            ]
          },
          "metadata": {},
          "execution_count": 25
        }
      ]
    },
    {
      "cell_type": "code",
      "source": [
        "tools=[retriever_tool]"
      ],
      "metadata": {
        "id": "RdOBh2GMWuSR"
      },
      "execution_count": 26,
      "outputs": []
    },
    {
      "cell_type": "code",
      "source": [
        "llm_with_tools=llm.bind_tools(tools=tools)"
      ],
      "metadata": {
        "id": "m4crIjvTWeJE"
      },
      "execution_count": 27,
      "outputs": []
    },
    {
      "cell_type": "code",
      "source": [
        "def bstGuide(state:State):\n",
        "  return {\"messages\":[llm_with_tools.invoke(state[\"messages\"])]}"
      ],
      "metadata": {
        "id": "mLmgmiOSWZze"
      },
      "execution_count": 28,
      "outputs": []
    },
    {
      "cell_type": "code",
      "source": [
        "from langgraph.graph import StateGraph,START,END\n",
        "workflow= StateGraph(State)\n"
      ],
      "metadata": {
        "id": "FYAclI2_c6Sk"
      },
      "execution_count": 32,
      "outputs": []
    },
    {
      "cell_type": "code",
      "source": [
        "from langgraph.prebuilt import ToolNode,tools_condition\n",
        "\n",
        "workflow.add_node(\"BST\", bstGuide)\n",
        "tool_node = ToolNode(tools=tools)\n",
        "workflow.add_node(\"tools\", tool_node)\n",
        "workflow.add_conditional_edges(\n",
        "    \"BST\",\n",
        "    tools_condition,\n",
        ")\n",
        "workflow.add_edge(\"tools\", \"BST\")\n",
        "workflow.add_edge(START,\"BST\")"
      ],
      "metadata": {
        "colab": {
          "base_uri": "https://localhost:8080/"
        },
        "id": "_cairMV_WKJH",
        "outputId": "3e668e75-9993-47c9-9e44-2d758c2809d8"
      },
      "execution_count": 33,
      "outputs": [
        {
          "output_type": "execute_result",
          "data": {
            "text/plain": [
              "<langgraph.graph.state.StateGraph at 0x7dfd388ef040>"
            ]
          },
          "metadata": {},
          "execution_count": 33
        }
      ]
    },
    {
      "cell_type": "code",
      "source": [
        "graph=workflow.compile()"
      ],
      "metadata": {
        "id": "K_pkhaGfbNED"
      },
      "execution_count": 35,
      "outputs": []
    },
    {
      "cell_type": "code",
      "source": [
        "from IPython.display import Image, display\n",
        "\n",
        "try:\n",
        "    display(Image(graph.get_graph().draw_mermaid_png()))\n",
        "except Exception:\n",
        "    # This requires some extra dependencies and is optional\n",
        "    pass"
      ],
      "metadata": {
        "colab": {
          "base_uri": "https://localhost:8080/",
          "height": 266
        },
        "id": "ta0qAiLSbOgd",
        "outputId": "f595da28-92ba-4832-e3d4-2f9ab2386911"
      },
      "execution_count": 36,
      "outputs": [
        {
          "output_type": "display_data",
          "data": {
            "image/jpeg": "[encoded data removed]",
            "text/plain": [
              "<IPython.core.display.Image object>"
            ]
          },
          "metadata": {}
        }
      ]
    },
    {
      "cell_type": "code",
      "source": [
        "user_input=\"I want to learn about binary search trees. Can you give me a study plan based on the topics to study along with time required\"\n",
        "\n",
        "events=graph.stream(\n",
        "     {\"messages\": [(\"user\", user_input)]},stream_mode=\"values\"\n",
        ")\n",
        "\n",
        "for event in events:\n",
        "  event[\"messages\"][-1].pretty_print()"
      ],
      "metadata": {
        "colab": {
          "base_uri": "https://localhost:8080/"
        },
        "id": "p2M9D58ubQtG",
        "outputId": "b302a6f8-524d-468e-9608-d33857bcb9fa"
      },
      "execution_count": 37,
      "outputs": [
        {
          "output_type": "stream",
          "name": "stdout",
          "text": [
            "================================\u001b[1m Human Message \u001b[0m=================================\n",
            "\n",
            "I want to learn about binary search trees. Can you give me a study plan based on the topics to study along with time required\n",
            "==================================\u001b[1m Ai Message \u001b[0m==================================\n",
            "Tool Calls:\n",
            "  BinarySearchTreesBook (call_Eqh0t9JEOuikqXRpjQskar5X)\n",
            " Call ID: call_Eqh0t9JEOuikqXRpjQskar5X\n",
            "  Args:\n",
            "    query: study plan\n",
            "=================================\u001b[1m Tool Message \u001b[0m=================================\n",
            "Name: BinarySearchTreesBook\n",
            "\n",
            "Problems for Chapter 11 309 \n",
            "been inserted. Your mission is to prove an O.lg n=  lg lg n/ upper bound on E ŒM �, \n",
            "the expected value of M  . \n",
            "a. Argue that the probability Q k that exactly k keys hash to a particular slot is \n",
            "given by \n",
            "Q k D Î 1 \n",
            "n Ï k Î \n",
            "1  1 \n",
            "n Ï nk  \n",
            "n \n",
            "k ! \n",
            ": \n",
            "b. Let P k be the probability that M  D k, that is, the probability that the slot \n",
            "containing the most keys contains k keys. Show that P k හ nQ  k .\n",
            "\n",
            "you know the search frequencies before constructing  the tree. That is, given the \n",
            "frequencies of searching for each key and the frequ encies of searching for values \n",
            "that fall between keys in the tree, a set of search es in the constructed binary search \n",
            "tree examines the minimum number of nodes.\n",
            "\n",
            "to test whether ´: key  D y: key  before  line  11.  If equality  holds,  implement  one  \n",
            "of the  following  strategies.  For  each  strategy,  ûnd  the  asym ptotic performance of \n",
            "inserting n items with identical keys into an initially empty b inary search tree. (The \n",
            "strategies  are  described  for  line  5, which  compares  the  keys  of ´ and x . Substitute \n",
            "y for x to arrive  at the  strategies  for  line  11.)\n",
            "\n",
            "rameter v of T RANSPLANT be NIL? \n",
            "12.3-5  \n",
            "Is the operation of deletion <commutative= in the s ense that deleting x and then y \n",
            "from a binary search tree leaves the same tree as d eleting y and then x ? Argue  why  \n",
            "it is or give a counterexample. \n",
            "12.3-6  \n",
            "Suppose that instead of each node x keeping the attribute x: p, pointing to x ’s \n",
            "parent, it keeps x: succ, pointing to x ’s successor.  Give  pseudocode  for  TREE-\n",
            "==================================\u001b[1m Ai Message \u001b[0m==================================\n",
            "\n",
            "Based on the given text and general knowledge of Binary Search Trees (BSTs), here is a structured study plan along with the time required for each topic:\n",
            "\n",
            "### Week 1: Introduction and Basics\n",
            "1. **Day 1-2: Understanding Trees and Binary Trees**\n",
            "   - **Topics:**\n",
            "     - Definition of Trees\n",
            "     - Types of Trees (Binary Trees, Full Binary Trees, Complete Binary Trees)\n",
            "   - **Time Required:** 4 hours\n",
            "\n",
            "2. **Day 3-4: Introduction to Binary Search Trees**\n",
            "   - **Topics:**\n",
            "     - Definition and Properties of BSTs\n",
            "     - BST vs Binary Trees\n",
            "   - **Time Required:** 4 hours\n",
            "\n",
            "3. **Day 5-7: Basic Operations on BSTs**\n",
            "   - **Topics:**\n",
            "     - Insertion\n",
            "     - Deletion\n",
            "     - Search\n",
            "   - **Time Required:** 6 hours\n",
            "\n",
            "### Week 2: Intermediate Concepts\n",
            "4. **Day 1-2: Tree Traversals**\n",
            "   - **Topics:**\n",
            "     - In-order Traversal\n",
            "     - Pre-order Traversal\n",
            "     - Post-order Traversal\n",
            "     - Level-order Traversal\n",
            "   - **Time Required:** 4 hours\n",
            "\n",
            "5. **Day 3-4: Balancing BSTs**\n",
            "   - **Topics:**\n",
            "     - Need for Balancing\n",
            "     - Simple Balancing Techniques\n",
            "   - **Time Required:** 4 hours\n",
            "\n",
            "6. **Day 5-7: Advanced Operations and Analysis**\n",
            "   - **Topics:**\n",
            "     - Successor and Predecessor\n",
            "     - Height of a BST\n",
            "     - Time Complexity Analysis\n",
            "   - **Time Required:** 6 hours\n",
            "\n",
            "### Week 3: Advanced Topics\n",
            "7. **Day 1-3: Self-Balancing Trees**\n",
            "   - **Topics:**\n",
            "     - AVL Trees\n",
            "     - Red-Black Trees\n",
            "   - **Time Required:** 6 hours\n",
            "\n",
            "8. **Day 4-5: Augmented BSTs**\n",
            "   - **Topics:**\n",
            "     - Order Statistic Trees\n",
            "     - Interval Trees\n",
            "   - **Time Required:** 4 hours\n",
            "\n",
            "9. **Day 6-7: Practical Applications**\n",
            "   - **Topics:**\n",
            "     - Use cases in programming and real-world applications\n",
            "     - Problem-solving using BSTs\n",
            "   - **Time Required:** 4 hours\n",
            "\n",
            "### Week 4: Review and Practice\n",
            "10. **Day 1-2: Review and Recap**\n",
            "    - **Topics:**\n",
            "      - Revisiting key concepts\n",
            "      - Clarifying doubts\n",
            "    - **Time Required:** 4 hours\n",
            "\n",
            "11. **Day 3-4: Hands-on Practice**\n",
            "    - **Topics:**\n",
            "      - Coding exercises\n",
            "      - Implementing various operations\n",
            "    - **Time Required:** 4 hours\n",
            "\n",
            "12. **Day 5-7: Mock Tests and Problem-solving**\n",
            "    - **Topics:**\n",
            "      - Solving BST problems\n",
            "      - Taking mock tests\n",
            "    - **Time Required:** 6 hours\n",
            "\n",
            "### Total Time Required: 50 hours\n",
            "\n",
            "This study plan covers the essential topics related to Binary Search Trees, including basic concepts, operations, advanced topics, and practical applications. Each week is structured to build upon the previous one, ensuring a comprehensive understanding of BSTs.\n"
          ]
        }
      ]
    },
    {
      "cell_type": "code",
      "source": [
        "user_input=\"I want to learn about binary search trees. I have 8 hours allocated for this preparation. I can give 2 hours per day. Can you give me a study plan based on the topics to study in 8 hours\"\n",
        "\n",
        "events=graph.stream(\n",
        "     {\"messages\": [(\"user\", user_input)]},stream_mode=\"values\"\n",
        ")\n",
        "\n",
        "for event in events:\n",
        "  event[\"messages\"][-1].pretty_print()"
      ],
      "metadata": {
        "colab": {
          "base_uri": "https://localhost:8080/"
        },
        "id": "388fHGoOeUR1",
        "outputId": "f4e17739-d8dc-4e9e-cbf3-913708930a9d"
      },
      "execution_count": 38,
      "outputs": [
        {
          "output_type": "stream",
          "name": "stdout",
          "text": [
            "================================\u001b[1m Human Message \u001b[0m=================================\n",
            "\n",
            "I want to learn about binary search trees. I have 8 hours allocated for this preparation. I can give 2 hours per day. Can you give me a study plan based on the topics to study in 8 hours\n",
            "==================================\u001b[1m Ai Message \u001b[0m==================================\n",
            "Tool Calls:\n",
            "  BinarySearchTreesBook (call_hwAePGipPxKGU7q1YEPV1FkM)\n",
            " Call ID: call_hwAePGipPxKGU7q1YEPV1FkM\n",
            "  Args:\n",
            "    query: topics to study for 8 hours\n",
            "=================================\u001b[1m Tool Message \u001b[0m=================================\n",
            "Name: BinarySearchTreesBook\n",
            "\n",
            "Problems for Chapter 11 309 \n",
            "been inserted. Your mission is to prove an O.lg n=  lg lg n/ upper bound on E ŒM �, \n",
            "the expected value of M  . \n",
            "a. Argue that the probability Q k that exactly k keys hash to a particular slot is \n",
            "given by \n",
            "Q k D Î 1 \n",
            "n Ï k Î \n",
            "1  1 \n",
            "n Ï nk  \n",
            "n \n",
            "k ! \n",
            ": \n",
            "b. Let P k be the probability that M  D k, that is, the probability that the slot \n",
            "containing the most keys contains k keys. Show that P k හ nQ  k .\n",
            "\n",
            "At  about  the  same  time,  G.  M.  Amdahl  originated  the  idea  of open addressing. \n",
            "The notion of a random oracle was introduced by Bel lare et al. [43].  Carter  and  \n",
            "Wegman  [80]  introduced  the  notion  of universal  families  of hash  functions  in 1979.  \n",
            "Dietzfelbinger  et al.  [113]  invented  the  multiply-shift  hash function and gave a \n",
            "proof  of Theorem  11.5.  Thorup  [437]  provides  extensions  and  additional analysis.\n",
            "\n",
            "328  Chapter  12  Binary  Search  Trees  \n",
            "011  0 \n",
            "100  10  \n",
            "1011  0 1 \n",
            "1 0 \n",
            "1 0 1 \n",
            "1 \n",
            "Figure  12.5  A radix tree storing the bit strings 1011 , 10, 011, 100, and 0. To  determine  each  node’s  \n",
            "key, traverse the simple path from the root to that  node. There is no need, therefore, to store the ke ys \n",
            "in the nodes. The keys appear here for illustrative  purposes only.  Keys  corresponding  to blue  nodes  \n",
            "are not in the tree. Such nodes are present only to  establish a path to other nodes.\n",
            "\n",
            "proof  of Theorem  11.5.  Thorup  [437]  provides  extensions  and  additional analysis. \n",
            "Thorup  [438]  gives  a simple  proof  that  linear  probing  with  5-independent  hashing  \n",
            "takes constant expected time per operation. Thorup also describes the method for \n",
            "deletion in a hash table using linear probing. \n",
            "Fredman,  Koml´  os,  and  Szemer´  edi  [154]  developed  a perfect  hashing scheme \n",
            "for  static  sets4<perfect=  because  all  collisions  are  avoid ed. An extension of their\n",
            "==================================\u001b[1m Ai Message \u001b[0m==================================\n",
            "\n",
            "Based on the topics from the book, here's a detailed 4-day study plan with 2 hours per day for a total of 8 hours:\n",
            "\n",
            "### Day 1: Introduction and Basic Concepts\n",
            "1. **Introduction to Binary Search Trees (BST)**\n",
            "   - Definition and Properties\n",
            "   - Use cases and applications\n",
            "2. **Basic Operations**\n",
            "   - Search\n",
            "   - Insertion\n",
            "   - Deletion\n",
            "\n",
            "**Time Allocation:**\n",
            "- Introduction to BST: 30 minutes\n",
            "- Search Operation: 30 minutes\n",
            "- Insertion Operation: 30 minutes\n",
            "- Deletion Operation: 30 minutes\n",
            "\n",
            "### Day 2: Traversal Techniques and Balanced Trees\n",
            "1. **Tree Traversal Methods**\n",
            "   - In-order Traversal\n",
            "   - Pre-order Traversal\n",
            "   - Post-order Traversal\n",
            "2. **Balanced Trees**\n",
            "   - AVL Trees\n",
            "   - Red-Black Trees\n",
            "\n",
            "**Time Allocation:**\n",
            "- In-order Traversal: 30 minutes\n",
            "- Pre-order Traversal: 30 minutes\n",
            "- Post-order Traversal: 30 minutes\n",
            "- AVL Trees: 30 minutes\n",
            "\n",
            "### Day 3: Advanced Concepts and Analysis\n",
            "1. **Advanced Operations**\n",
            "   - Finding Minimum and Maximum\n",
            "   - Successor and Predecessor\n",
            "2. **Complexity Analysis**\n",
            "   - Time Complexity of Operations\n",
            "   - Space Complexity\n",
            "\n",
            "**Time Allocation:**\n",
            "- Finding Minimum and Maximum: 30 minutes\n",
            "- Successor and Predecessor: 30 minutes\n",
            "- Time Complexity Analysis: 30 minutes\n",
            "- Space Complexity Analysis: 30 minutes\n",
            "\n",
            "### Day 4: Applications and Problem-Solving\n",
            "1. **Real-world Applications**\n",
            "   - Databases\n",
            "   - File Systems\n",
            "   - Network Routing\n",
            "2. **Problem-Solving Session**\n",
            "   - Practice Problems\n",
            "   - Common Interview Questions\n",
            "\n",
            "**Time Allocation:**\n",
            "- Real-world Applications: 30 minutes\n",
            "- Practice Problems: 60 minutes\n",
            "- Common Interview Questions: 30 minutes\n",
            "\n",
            "This plan covers the essential topics and provides practice time to solidify your understanding. Feel free to adjust the time allocations based on your comfort with each topic.\n"
          ]
        }
      ]
    },
    {
      "cell_type": "code",
      "source": [
        "user_input=\"Thanks! Can you create a cheatsheet for traversal mechanisms\"\n",
        "\n",
        "events=graph.stream(\n",
        "     {\"messages\": [(\"user\", user_input)]},stream_mode=\"values\"\n",
        ")\n",
        "\n",
        "for event in events:\n",
        "  event[\"messages\"][-1].pretty_print()"
      ],
      "metadata": {
        "colab": {
          "base_uri": "https://localhost:8080/"
        },
        "id": "nzky8l0eeqHp",
        "outputId": "d5f5f9e5-cdd0-4894-c7d1-a3428b1d57dd"
      },
      "execution_count": 39,
      "outputs": [
        {
          "output_type": "stream",
          "name": "stdout",
          "text": [
            "================================\u001b[1m Human Message \u001b[0m=================================\n",
            "\n",
            "Thanks! Can you create a cheatsheet for traversal mechanisms\n",
            "==================================\u001b[1m Ai Message \u001b[0m==================================\n",
            "Tool Calls:\n",
            "  BinarySearchTreesBook (call_zdEPjtTQv69DKKJqYHNNfZly)\n",
            " Call ID: call_zdEPjtTQv69DKKJqYHNNfZly\n",
            "  Args:\n",
            "    query: preorder traversal\n",
            "  BinarySearchTreesBook (call_lu26akqN15Ccw3tUldwsYm0e)\n",
            " Call ID: call_lu26akqN15Ccw3tUldwsYm0e\n",
            "  Args:\n",
            "    query: inorder traversal\n",
            "  BinarySearchTreesBook (call_rNodo7qpj4Flmt6K5KkrgTk5)\n",
            " Call ID: call_rNodo7qpj4Flmt6K5KkrgTk5\n",
            "  Args:\n",
            "    query: postorder traversal\n",
            "  BinarySearchTreesBook (call_ewjmJHdPNuUvrQKczJqZMiG5)\n",
            " Call ID: call_ewjmJHdPNuUvrQKczJqZMiG5\n",
            "  Args:\n",
            "    query: level order traversal\n",
            "=================================\u001b[1m Tool Message \u001b[0m=================================\n",
            "Name: BinarySearchTreesBook\n",
            "\n",
            "binary search tree in sorted order by a simple recu rsive algorithm, called an inorder  \n",
            "tree  walk , given by the procedure I NORDER-TREE-WALK. This algorithm is so \n",
            "named because it prints the key of the root of a su btree between printing the values \n",
            "in its left subtree and printing those in its right  subtree. (Similarly, a preorder  tree  \n",
            "walk  prints the root before the values in either subtree , and a postorder  tree  walk\n",
            "\n",
            "called on the root of an n-node  subtree.  Since  I NORDER-TREE-WALK  visits all n \n",
            "nodes of the subtree, we have T.n/  D �.n/ . It remains to show that T.n/  D O.n/ .\n",
            "\n",
            "The nodes encountered during the recursion form a s imple path downward from \n",
            "the root of the tree, and thus the running time of TREE-SEARCH is O.h/ , where h \n",
            "is the height of the tree.\n",
            "\n",
            "than 6. The same property holds for every node in the tre e. For example, looking \n",
            "at the  root’s  left  child  as the  root  of a subtree,  this  subtree  root has the key 5, the \n",
            "key 2 in its left subtree is no larger than 5, and the key 5 in its right subtree is no \n",
            "smaller than 5. \n",
            "Because  of the  binary-search-tree  property,  you  can  print  out all the keys in a \n",
            "binary search tree in sorted order by a simple recu rsive algorithm, called an inorder\n",
            "==================================\u001b[1m Ai Message \u001b[0m==================================\n",
            "\n",
            "### Binary Search Tree Traversal Mechanisms\n",
            "\n",
            "#### 1. Preorder Traversal\n",
            "- **Description**: In a preorder traversal, the nodes are recursively visited in this order: root, left subtree, right subtree.\n",
            "- **Algorithm**:\n",
            "  1. Visit the root node.\n",
            "  2. Traverse the left subtree in preorder.\n",
            "  3. Traverse the right subtree in preorder.\n",
            "- **Example**:\n",
            "  ```\n",
            "        1\n",
            "       / \\\n",
            "      2   3\n",
            "     / \\\n",
            "    4   5\n",
            "  ```\n",
            "  Preorder traversal of the above tree: `1, 2, 4, 5, 3`\n",
            "\n",
            "#### 2. Inorder Traversal\n",
            "- **Description**: In an inorder traversal, the nodes are recursively visited in this order: left subtree, root, right subtree. This traversal prints the nodes in non-decreasing order.\n",
            "- **Algorithm**:\n",
            "  1. Traverse the left subtree in inorder.\n",
            "  2. Visit the root node.\n",
            "  3. Traverse the right subtree in inorder.\n",
            "- **Example**:\n",
            "  ```\n",
            "        1\n",
            "       / \\\n",
            "      2   3\n",
            "     / \\\n",
            "    4   5\n",
            "  ```\n",
            "  Inorder traversal of the above tree: `4, 2, 5, 1, 3`\n",
            "\n",
            "#### 3. Postorder Traversal\n",
            "- **Description**: In a postorder traversal, the nodes are recursively visited in this order: left subtree, right subtree, root.\n",
            "- **Algorithm**:\n",
            "  1. Traverse the left subtree in postorder.\n",
            "  2. Traverse the right subtree in postorder.\n",
            "  3. Visit the root node.\n",
            "- **Example**:\n",
            "  ```\n",
            "        1\n",
            "       / \\\n",
            "      2   3\n",
            "     / \\\n",
            "    4   5\n",
            "  ```\n",
            "  Postorder traversal of the above tree: `4, 5, 2, 3, 1`\n",
            "\n",
            "#### 4. Level Order Traversal\n",
            "- **Description**: In a level order traversal, the nodes are visited level by level from top to bottom and from left to right within each level.\n",
            "- **Algorithm**:\n",
            "  1. Use a queue to keep track of nodes at each level.\n",
            "  2. Start with the root node and enqueue it.\n",
            "  3. While the queue is not empty, dequeue a node, visit it, and then enqueue its left and right children.\n",
            "- **Example**:\n",
            "  ```\n",
            "        1\n",
            "       / \\\n",
            "      2   3\n",
            "     / \\\n",
            "    4   5\n",
            "  ```\n",
            "  Level order traversal of the above tree: `1, 2, 3, 4, 5`\n",
            "\n",
            "This cheat sheet covers the basic traversal mechanisms for binary search trees, providing a clear and concise reference for each type of traversal.\n"
          ]
        }
      ]
    }
  ]
}