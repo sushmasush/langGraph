{
  "nbformat": 4,
  "nbformat_minor": 0,
  "metadata": {
    "colab": {
      "provenance": []
    },
    "kernelspec": {
      "name": "python3",
      "display_name": "Python 3"
    },
    "language_info": {
      "name": "python"
    }
  },
  "cells": [
    {
      "cell_type": "markdown",
      "source": [
        "#Create a study assistant application capable of helping the candidates in various phases of their preparation to achieve their goals\n",
        "\n"
      ],
      "metadata": {
        "id": "7OOANIRLLXu_"
      }
    },
    {
      "cell_type": "markdown",
      "source": [
        "Install the necessary libraries"
      ],
      "metadata": {
        "id": "e4DEAgJALTGI"
      }
    },
    {
      "cell_type": "code",
      "execution_count": 3,
      "metadata": {
        "id": "ClMnXcpOYS6T"
      },
      "outputs": [],
      "source": [
        "%%capture --no-stderr\n",
        "%pip install -U langchain langchain_openai langsmith pandas langchain_experimental matplotlib langgraph langchain_core faiss-cpu  langchain-openai langchain-community\n",
        "%pip install ipython"
      ]
    },
    {
      "cell_type": "code",
      "source": [
        "import getpass\n",
        "import os\n",
        "\n",
        "# Load environment variables from a .env file\n",
        "from google.colab import userdata\n",
        "os.environ[\"OPENAI_API_KEY\"]=userdata.get('OPENAI_API_KEY')\n",
        "os.environ[\"TAVILY_API_KEY\"]=userdata.get('TAVILY_API_KEY')\n",
        "\n",
        "## Langsmith tracking\n",
        "os.environ[\"LANGCHAIN_TRACING_V2\"]=\"true\"\n",
        "os.environ[\"LANGCHAIN_API_KEY\"]=userdata.get('LANGCHAIN_API_KEY')\n",
        "os.environ[\"LANGCHAIN_PROJECT\"]=\"Binary Search Trees with Web search Capability\""
      ],
      "metadata": {
        "id": "voPlN1ZnZiww"
      },
      "execution_count": 4,
      "outputs": []
    },
    {
      "cell_type": "code",
      "source": [
        "from typing import Annotated\n",
        "\n",
        "from langchain_community.tools.tavily_search import TavilySearchResults\n",
        "from langchain_core.tools import tool"
      ],
      "metadata": {
        "id": "jrI8euulaAgw"
      },
      "execution_count": 5,
      "outputs": []
    },
    {
      "cell_type": "code",
      "source": [
        "%pip install -q pypdf"
      ],
      "metadata": {
        "colab": {
          "base_uri": "https://localhost:8080/"
        },
        "id": "GdDp-bFFaEeO",
        "outputId": "f22aceb6-d5a8-409b-f602-dbc2bab6e686"
      },
      "execution_count": 6,
      "outputs": [
        {
          "output_type": "stream",
          "name": "stdout",
          "text": [
            "\u001b[?25l   \u001b[90m━━━━━━━━━━━━━━━━━━━━━━━━━━━━━━━━━━━━━━━━\u001b[0m \u001b[32m0.0/294.5 kB\u001b[0m \u001b[31m?\u001b[0m eta \u001b[36m-:--:--\u001b[0m\r\u001b[2K   \u001b[90m━━━━━━━━━━━━━━━━━━━━━━━━━━━━━━━━━━━━━━━━\u001b[0m \u001b[32m294.5/294.5 kB\u001b[0m \u001b[31m15.8 MB/s\u001b[0m eta \u001b[36m0:00:00\u001b[0m\n",
            "\u001b[?25h"
          ]
        }
      ]
    },
    {
      "cell_type": "code",
      "source": [
        "from langchain_community.document_loaders import PyPDFLoader\n",
        "from langchain.text_splitter import RecursiveCharacterTextSplitter\n",
        "from langchain_community.vectorstores import FAISS\n",
        "from langchain.embeddings.openai import OpenAIEmbeddings\n",
        "indexName=\"BinarySearchTrees\""
      ],
      "metadata": {
        "id": "sfy_Yqf1aOMI"
      },
      "execution_count": 7,
      "outputs": []
    },
    {
      "cell_type": "code",
      "source": [
        "loader = PyPDFLoader(\"data/BinarySearchTrees.pdf\")\n",
        "documents=loader.load()\n",
        "text_splitter=RecursiveCharacterTextSplitter(chunk_size=500,chunk_overlap=100)\n",
        "final_documents=text_splitter.split_documents(documents)\n",
        "embeddings=OpenAIEmbeddings()\n",
        "vecStore=FAISS.from_documents(final_documents,embeddings)\n",
        "# Save the vector DB to your local\n",
        "db =vecStore.save_local(folder_path=\"Database\", index_name=indexName)"
      ],
      "metadata": {
        "id": "cFvrnikZaSzH"
      },
      "execution_count": null,
      "outputs": []
    },
    {
      "cell_type": "code",
      "source": [
        "db=FAISS.load_local(folder_path=\"Database\", index_name=indexName, embeddings=OpenAIEmbeddings(),allow_dangerous_deserialization=True)"
      ],
      "metadata": {
        "colab": {
          "base_uri": "https://localhost:8080/"
        },
        "id": "3_RJKBtSadvY",
        "outputId": "14170cf9-6ecd-4ddc-eb1d-1a20e857b3cf"
      },
      "execution_count": 8,
      "outputs": [
        {
          "output_type": "stream",
          "name": "stderr",
          "text": [
            "<ipython-input-8-cc81e16259f7>:1: LangChainDeprecationWarning: The class `OpenAIEmbeddings` was deprecated in LangChain 0.0.9 and will be removed in 1.0. An updated version of the class exists in the :class:`~langchain-openai package and should be used instead. To use it run `pip install -U :class:`~langchain-openai` and import as `from :class:`~langchain_openai import OpenAIEmbeddings``.\n",
            "  db=FAISS.load_local(folder_path=\"Database\", index_name=indexName, embeddings=OpenAIEmbeddings(),allow_dangerous_deserialization=True)\n"
          ]
        }
      ]
    },
    {
      "cell_type": "code",
      "source": [
        "from langchain.tools.retriever import create_retriever_tool\n",
        "retriever=db.as_retriever()\n",
        "#retriever_tool=create_retriever_tool(retriever,\"BinarySearchTreesBook\", \"This contains information about binary search tree concepts. Use this to create a study plan.\")"
      ],
      "metadata": {
        "id": "Zc0uzwnLalP-"
      },
      "execution_count": 9,
      "outputs": []
    },
    {
      "cell_type": "code",
      "source": [
        "from langchain_openai import ChatOpenAI\n",
        "llm=ChatOpenAI(model_name=\"gpt-4o\")\n",
        "llm"
      ],
      "metadata": {
        "colab": {
          "base_uri": "https://localhost:8080/"
        },
        "id": "DEuDhmzAavPu",
        "outputId": "67b4484b-b241-405c-d99d-73fe870817c7"
      },
      "execution_count": 10,
      "outputs": [
        {
          "output_type": "execute_result",
          "data": {
            "text/plain": [
              "ChatOpenAI(client=<openai.resources.chat.completions.Completions object at 0x7e1db144eb30>, async_client=<openai.resources.chat.completions.AsyncCompletions object at 0x7e1db129cc70>, root_client=<openai.OpenAI object at 0x7e1db3e79f60>, root_async_client=<openai.AsyncOpenAI object at 0x7e1db144eb90>, model_name='gpt-4o', model_kwargs={}, openai_api_key=SecretStr('**********'))"
            ]
          },
          "metadata": {},
          "execution_count": 10
        }
      ]
    },
    {
      "cell_type": "markdown",
      "source": [
        "##Step 1: Create a routing logic\n",
        "This step contains a question router chain that combines the LLM with the prompt and structures the output which returns whether the question requires an RAG context or a web search to generate an answer. Review the code below and It returns “vectorstore” or “web_search”."
      ],
      "metadata": {
        "id": "xISUbWoisX-R"
      }
    },
    {
      "cell_type": "code",
      "source": [
        "### Router\n",
        "\n",
        "from typing import Literal\n",
        "\n",
        "from langchain_core.prompts import ChatPromptTemplate\n",
        "from langchain_openai import ChatOpenAI\n",
        "\n",
        "from pydantic import BaseModel, Field\n",
        "\n",
        "\n",
        "# Data model\n",
        "class RouteQuery(BaseModel):\n",
        "    \"\"\"Route a user query to the most relevant datasource.\"\"\"\n",
        "\n",
        "    datasource: Literal[\"vectorstore\", \"web_search\"] = Field(\n",
        "        ...,\n",
        "        description=\"Given a user question choose to route it to web search or a vectorstore.\",\n",
        "    )\n",
        "\n",
        "\n",
        "# LLM with function call\n",
        "llm = ChatOpenAI(model=\"gpt-3.5-turbo-0125\", temperature=0)\n",
        "structured_llm_router = llm.with_structured_output(RouteQuery)\n",
        "\n",
        "# Prompt\n",
        "system = \"\"\"You are an expert at routing a user question to a vectorstore or web search.\n",
        "The vectorstore contains documents related to Introduction of Binary search tree, red black trees and AVL trees.\n",
        "Use the vectorstore for questions on these topics to create study plan, notes, cheat sheet, preparation materials for each concept.\n",
        "Otherwise, use web-search.\"\"\"\n",
        "route_prompt = ChatPromptTemplate.from_messages(\n",
        "    [\n",
        "        (\"system\", system),\n",
        "        (\"human\", \"{question}\"),\n",
        "    ]\n",
        ")\n",
        "\n",
        "question_router = route_prompt | structured_llm_router"
      ],
      "metadata": {
        "id": "ghq1RCL4az0-"
      },
      "execution_count": 12,
      "outputs": []
    },
    {
      "cell_type": "code",
      "source": [
        "\n",
        "def route_question(state):\n",
        "    \"\"\"\n",
        "    Route question to web search or RAG.\n",
        "\n",
        "    Args:\n",
        "        state (dict): The current graph state\n",
        "\n",
        "    Returns:\n",
        "        str: Next node to call\n",
        "    \"\"\"\n",
        "\n",
        "    print(\"---ROUTE QUESTION---\")\n",
        "    question = state[\"question\"]\n",
        "    source = question_router.invoke({\"question\": question})\n",
        "    if source.datasource == \"web_search\":\n",
        "        print(\"---ROUTE QUESTION TO WEB SEARCH---\")\n",
        "        return \"web_search\"\n",
        "    elif source.datasource == \"vectorstore\":\n",
        "        print(\"---ROUTE QUESTION TO RAG---\")\n",
        "        return \"vectorstore\"\n"
      ],
      "metadata": {
        "id": "b3DyZ8L8eFU3"
      },
      "execution_count": 30,
      "outputs": []
    },
    {
      "cell_type": "markdown",
      "source": [
        "##Step 2: Web search tool\n",
        "Tavily Web search tool is one of the tools used in langchain community."
      ],
      "metadata": {
        "id": "visG-RlZsujl"
      }
    },
    {
      "cell_type": "code",
      "source": [
        "### Search\n",
        "\n",
        "from langchain_community.tools.tavily_search import TavilySearchResults\n",
        "\n",
        "web_search_tool = TavilySearchResults(k=3)"
      ],
      "metadata": {
        "id": "c6aYSsCAb9Ov"
      },
      "execution_count": 13,
      "outputs": []
    },
    {
      "cell_type": "markdown",
      "source": [
        "## Step 3: Create a chain to generate the answers\n",
        "Create a rag_chain which is a combination of LLM+ prompt template+ output parser. OutputParser that parses LLMResult into the top likely string. Prompt Template is one of the templates that is in the lang chain hub."
      ],
      "metadata": {
        "id": "hyKHPWjUsy7H"
      }
    },
    {
      "cell_type": "code",
      "source": [
        "### Generate\n",
        "\n",
        "from langchain import hub\n",
        "from langchain_core.output_parsers import StrOutputParser\n",
        "\n",
        "# Prompt\n",
        "prompt = hub.pull(\"rlm/rag-prompt\")\n",
        "\n",
        "# LLM\n",
        "llm = ChatOpenAI(model_name=\"gpt-3.5-turbo\", temperature=0)\n",
        "\n",
        "\n",
        "# Post-processing\n",
        "def format_docs(docs):\n",
        "    return \"\\n\\n\".join(doc.page_content for doc in docs)\n",
        "\n",
        "\n",
        "# Chain\n",
        "rag_chain = prompt | llm | StrOutputParser()\n",
        "\n"
      ],
      "metadata": {
        "id": "m0Pzxm4YdODK"
      },
      "execution_count": 11,
      "outputs": []
    },
    {
      "cell_type": "markdown",
      "source": [
        "## Step 4 Construct the Graph\n",
        "Capture the flow in as a graph.\n",
        "\n",
        "Define Graph State"
      ],
      "metadata": {
        "id": "834kcJ9-s9P6"
      }
    },
    {
      "cell_type": "code",
      "source": [
        "from typing import List\n",
        "\n",
        "from typing_extensions import TypedDict\n",
        "\n",
        "\n",
        "class GraphState(TypedDict):\n",
        "    \"\"\"\n",
        "    Represents the state of our graph.\n",
        "\n",
        "    Attributes:\n",
        "        question: question\n",
        "        generation: LLM generation\n",
        "        documents: list of documents\n",
        "    \"\"\"\n",
        "\n",
        "    question: str\n",
        "    generation: str\n",
        "    documents: List[str]"
      ],
      "metadata": {
        "id": "xuYSbBGWcBnv"
      },
      "execution_count": 14,
      "outputs": []
    },
    {
      "cell_type": "markdown",
      "source": [
        "## Step 5: Retrieve from the database and generate answers\n",
        "The following code generates based on the documents that are retrieved from the db retriever. The retriever uses a Maximum marginal relevance retrieval mechanism to retrieve the documents."
      ],
      "metadata": {
        "id": "oj6yeF21tJJo"
      }
    },
    {
      "cell_type": "code",
      "source": [
        "def generatevecDB(state):\n",
        "    \"\"\"\n",
        "    Generate answer\n",
        "\n",
        "    Args:\n",
        "        state (dict): The current graph state\n",
        "\n",
        "    Returns:\n",
        "        state (dict): New key added to state, generation, that contains LLM generation\n",
        "    \"\"\"\n",
        "    print(\"---RETRIEVE---\")\n",
        "    question = state[\"question\"]\n",
        "    documents = retriever.invoke(question)\n",
        "    print(\"---GENERATE---\")\n",
        "    question = state[\"question\"]\n",
        "    state[\"documents\"] =documents\n",
        "\n",
        "    # RAG generation\n",
        "    generation = rag_chain.invoke({\"context\": documents, \"question\": question})\n",
        "    return {\"documents\": documents, \"question\": question, \"generation\": generation}\n",
        "\n"
      ],
      "metadata": {
        "id": "vW3ioQP4pb3z"
      },
      "execution_count": 29,
      "outputs": []
    },
    {
      "cell_type": "markdown",
      "source": [
        "## Step 6: Web search tool invocation\n",
        "Invoke the web search tool with the questions. The \"documents\" context will be None as this does not correspond to the RAG"
      ],
      "metadata": {
        "id": "aC6le1IktfA1"
      }
    },
    {
      "cell_type": "code",
      "source": [
        "from langchain.schema import Document\n",
        "def web_search(state):\n",
        "    \"\"\"\n",
        "    Web search based on the question.\n",
        "\n",
        "    Args:\n",
        "        state (dict): The current graph state\n",
        "\n",
        "    Returns:\n",
        "        state (dict): Updates documents key with appended web results\n",
        "    \"\"\"\n",
        "\n",
        "    print(\"---WEB SEARCH---\")\n",
        "    question = state[\"question\"]\n",
        "\n",
        "    # Web search\n",
        "    docs = web_search_tool.invoke({\"query\": question})\n",
        "    web_results = \"\\n\".join([d[\"content\"] for d in docs])\n",
        "    web_results = Document(page_content=web_results)\n",
        "\n",
        "    return {\"documents\": None , \"question\": question,\"generation\": web_results}"
      ],
      "metadata": {
        "id": "AK_GLoPWted4"
      },
      "execution_count": null,
      "outputs": []
    },
    {
      "cell_type": "markdown",
      "source": [
        "## Step 7: Graph design\n",
        "The start invokes route_question where the question is classified as a vectorStore or web_search. Based on the result it invokes either the vectorstore node or web_search node. which ends the workflow after generating the results."
      ],
      "metadata": {
        "id": "rnbLAIpUtlmy"
      }
    },
    {
      "cell_type": "code",
      "source": [
        "from langgraph.graph import END, StateGraph, START\n",
        "\n",
        "workflow = StateGraph(GraphState)\n",
        "\n",
        "# Define the nodes\n",
        "workflow.add_node(\"web_search\", web_search)  # web search\n",
        "workflow.add_node(\"vectorstore\", generatevecDB)  # generatae\n",
        "\n",
        "# Build graph\n",
        "workflow.add_conditional_edges(\n",
        "    START,\n",
        "    route_question,\n",
        "    {\n",
        "        \"web_search\": \"web_search\",\n",
        "        \"vectorstore\": \"vectorstore\",\n",
        "    },\n",
        ")\n",
        "workflow.add_edge(\"web_search\",END)\n",
        "workflow.add_edge(\"vectorstore\", END)\n",
        "\n",
        "# Compile\n",
        "app = workflow.compile()"
      ],
      "metadata": {
        "id": "fPNuIzSieMZg"
      },
      "execution_count": 31,
      "outputs": []
    },
    {
      "cell_type": "code",
      "source": [
        "\n",
        "from IPython.display import Image, display\n",
        "\n",
        "try:\n",
        "    display(Image(app.get_graph().draw_mermaid_png()))\n",
        "except Exception:\n",
        "    # This requires some extra dependencies and is optional\n",
        "    print(\"Something happened\")\n",
        "    pass"
      ],
      "metadata": {
        "colab": {
          "base_uri": "https://localhost:8080/",
          "height": 251
        },
        "id": "BzYWczOvgQgP",
        "outputId": "46913a10-c9ea-49bf-d1d1-2b00f274eba3"
      },
      "execution_count": 32,
      "outputs": [
        {
          "output_type": "display_data",
          "data": {
            "image/jpeg": "[encoded data removed]",
            "text/plain": [
              "<IPython.core.display.Image object>"
            ]
          },
          "metadata": {}
        }
      ]
    },
    {
      "cell_type": "code",
      "source": [
        "from pprint import pprint\n"
      ],
      "metadata": {
        "id": "Gd83IP-il2Gf"
      },
      "execution_count": 26,
      "outputs": []
    },
    {
      "cell_type": "code",
      "source": [
        "questionprompts={\n",
        "    1: \"Give me a brief note on AVL trees?\",\n",
        "    2: \"Tutor me about binary search trees in 300 words. \",\n",
        "    3: \"Give me 2 MCQ's interview questions along with 4 options in Binary Search tree topic from the web. State the correct answer. Let the difficulty level be Easy\",\n",
        "}"
      ],
      "metadata": {
        "id": "hPsAoBrprTmn"
      },
      "execution_count": 33,
      "outputs": []
    },
    {
      "cell_type": "markdown",
      "source": [
        "## Step 8: Queries"
      ],
      "metadata": {
        "id": "jiw5AZTKtrgT"
      }
    },
    {
      "cell_type": "code",
      "source": [
        "# Run\n",
        "answers = {}\n",
        "for qkey, qq in questionprompts.items():\n",
        "  inputs = {\"question\": qq}\n",
        "  print(\"Question: \"+ qq)\n",
        "  for output in app.stream(inputs,{\"recursion_limit\": 100}):\n",
        "    for key, value in output.items():\n",
        "        # Node\n",
        "        pprint(f\"Node '{key}':\")\n",
        "        pprint(\"Value: \"+str(value))\n",
        "    pprint(\"\\n---\\n\")\n",
        "  print(\"Key:\"+ str(key))\n",
        "  answers[qkey] = value[\"generation\"]\n",
        "  # Final generation\n",
        "  pprint(value[\"generation\"])\n"
      ],
      "metadata": {
        "colab": {
          "base_uri": "https://localhost:8080/"
        },
        "id": "-4GkhoA7rj-w",
        "outputId": "6999a0db-8f78-4114-8452-b6dc0680a85e"
      },
      "execution_count": 34,
      "outputs": [
        {
          "output_type": "stream",
          "name": "stdout",
          "text": [
            "Question: Give me a brief note on AVL trees?\n",
            "---ROUTE QUESTION---\n",
            "---ROUTE QUESTION TO RAG---\n",
            "---RETRIEVE---\n",
            "---GENERATE---\n",
            "\"Node 'vectorstore':\"\n",
            "(\"Value: {'question': 'Give me a brief note on AVL trees?', 'generation': 'An \"\n",
            " 'AVL tree is a self-balancing binary search tree where the heights of the two '\n",
            " 'child subtrees of any node differ by at most one. This property helps '\n",
            " 'maintain a balanced tree structure, ensuring efficient search, insertion, '\n",
            " 'and deletion operations. AVL trees are named after their inventors, '\n",
            " \"Adelson-Velsky and Landis.', 'documents': [Document(metadata={'source': \"\n",
            " \"'data/BinarySearchTrees.pdf', 'page': 4}, page_content='12.1  What  is a \"\n",
            " 'binary  search  tree?  313 \\\\n5 2 5 5 \\\\n8 7 6 \\\\n(a) 6 8 7 5 2 \\\\n(b) 6 '\n",
            " '\\\\n5 7 \\\\n2 5 8 2 \\\\n5 \\\\n7 \\\\n6 8 \\\\n5 T: root T: root \\\\nFigure  12.1  '\n",
            " 'Binary search trees. For any node x, the keys in the left subtree of x are '\n",
            " 'at most x: key, \\\\nand the keys in the right subtree of x are at least x: '\n",
            " 'key. Different binary search trees can represent \\\\nthe  same  set  of '\n",
            " 'values.  The  worst-case  running  time  for  most  search-tree  operations  '\n",
            " \"is proportional'), Document(metadata={'source': \"\n",
            " \"'data/BinarySearchTrees.pdf', 'page': 28}, page_content='arbitrary n-node  \"\n",
            " 'binary  search  tree  using  O.n/  rotations. ( Hint: First show that at '\n",
            " '\\\\nmost n \\\\ue003 1 right  rotations  sufûce  to transform  the  tree  into  '\n",
            " 'a right-go ing chain.) \\\\n? 13.2-5  \\\\nWe say that a binary search tree T 1 '\n",
            " 'can be right-converted  to binary search tree T 2 \\\\nif it is possible to '\n",
            " 'obtain T 2 from T 1 via a series of calls to R IGHT-ROTATE. Give  \\\\nan '\n",
            " 'example of two trees T 1 and T 2 such that T 1 cannot  be right-converted  '\n",
            " \"to T 2 .'), Document(metadata={'source': 'data/BinarySearchTrees.pdf', \"\n",
            " \"'page': 3}, page_content='A binary search tree is organized, as the name \"\n",
            " 'sugg ests, in a binary tree, as shown \\\\nin Figure  12.1.  You  can  '\n",
            " 'represent  such  a tree  with  a linked  data structure, as in \\\\nSection  '\n",
            " '10.3.  In addition  to a key  and satellite data, each node object contains '\n",
            " '\\\\nattributes left , right , and p that point to the nodes corresponding to '\n",
            " 'its left c hild, \\\\nits right child, and its parent, respectively. If a  '\n",
            " \"child or the parent is missing, the'), Document(metadata={'source': \"\n",
            " \"'data/BinarySearchTrees.pdf', 'page': 3}, page_content='won’t  prove  it \"\n",
            " 'here,  but  if you  build  a binary  search  tree  on  a random set of n '\n",
            " 'keys, \\\\nits expected height is O.lg n/ even  if you  don’t  try  to limit  '\n",
            " 'its  height.  \\\\nAfter presenting the basic properties of binary sea rch '\n",
            " 'trees, the  following  sec-  \\\\ntions show how to walk a binary search tree '\n",
            " 'to prin t its values in sorted order, how \\\\nto search  for  a value  in a '\n",
            " \"binary  search  tree,  how  to ûnd  the  minimum or maximum')]}\")\n",
            "'\\n---\\n'\n",
            "Key:vectorstore\n",
            "('An AVL tree is a self-balancing binary search tree where the heights of the '\n",
            " 'two child subtrees of any node differ by at most one. This property helps '\n",
            " 'maintain a balanced tree structure, ensuring efficient search, insertion, '\n",
            " 'and deletion operations. AVL trees are named after their inventors, '\n",
            " 'Adelson-Velsky and Landis.')\n",
            "Question: Tutor me about binary search trees in 300 words. \n",
            "---ROUTE QUESTION---\n",
            "---ROUTE QUESTION TO RAG---\n",
            "---RETRIEVE---\n",
            "---GENERATE---\n",
            "\"Node 'vectorstore':\"\n",
            "(\"Value: {'question': 'Tutor me about binary search trees in 300 words. ', \"\n",
            " '\\'generation\\': \"A binary search tree is organized in a binary tree '\n",
            " 'structure where the keys in the left subtree of a node are less than the '\n",
            " \"node's key, and the keys in the right subtree are greater. Operations on \"\n",
            " 'binary search trees include searching for a value, finding the minimum or '\n",
            " 'maximum element, finding the predecessor or successor of an element, and '\n",
            " 'inserting or deleting nodes. Different binary search trees can represent the '\n",
            " 'same set of values, and the worst-case running time for most search-tree '\n",
            " 'operations is proportional.\", \\'documents\\': [Document(metadata={\\'source\\': '\n",
            " \"'data/BinarySearchTrees.pdf', 'page': 6}, page_content='12.1  What  is a \"\n",
            " 'binary  search  tree?  315 \\\\nSince I NORDER-TREE-WALK  takes a small, '\n",
            " 'constant amount of time on an \\\\nempty subtree (for the test x ¤ NIL), we '\n",
            " 'have T.0/  D c for some constant c>0 . \\\\nFor n > 0 , suppose that I '\n",
            " 'NORDER-TREE-WALK  is called on a node x whose \\\\nleft subtree has k nodes '\n",
            " 'and whose right subtree has n \\\\ue003 k \\\\ue003 1 nodes. The time to '\n",
            " '\\\\nperform I NORDER-TREE-WALK  .x/  is bounded by T.n/  හ T.k/ CT.n\\\\ue003k '\n",
            " \"\\\\ue0031/Cd'), Document(metadata={'source': 'data/BinarySearchTrees.pdf', \"\n",
            " \"'page': 3}, page_content='to search  for  a value  in a binary  search  \"\n",
            " 'tree,  how  to ûnd  the  minimum or maximum \\\\nelement,  how  to ûnd  the  '\n",
            " 'predecessor  or successor  of an elemen t, and how to insert \\\\ninto or '\n",
            " 'delete from a binary search tree. The basic  mathematical properties of '\n",
            " 'trees \\\\nappear in Appendix B. \\\\n12.1  What  is a binary  search  tree?  '\n",
            " '\\\\nA binary search tree is organized, as the name sugg ests, in a binary '\n",
            " \"tree, as shown'), Document(metadata={'source': 'data/BinarySearchTrees.pdf', \"\n",
            " \"'page': 4}, page_content='12.1  What  is a binary  search  tree?  313 \\\\n5 2 \"\n",
            " '5 5 \\\\n8 7 6 \\\\n(a) 6 8 7 5 2 \\\\n(b) 6 \\\\n5 7 \\\\n2 5 8 2 \\\\n5 \\\\n7 \\\\n6 8 '\n",
            " '\\\\n5 T: root T: root \\\\nFigure  12.1  Binary search trees. For any node x, '\n",
            " 'the keys in the left subtree of x are at most x: key, \\\\nand the keys in the '\n",
            " 'right subtree of x are at least x: key. Different binary search trees can '\n",
            " 'represent \\\\nthe  same  set  of values.  The  worst-case  running  time  '\n",
            " \"for  most  search-tree  operations  is proportional'), \"\n",
            " \"Document(metadata={'source': 'data/BinarySearchTrees.pdf', 'page': 11}, \"\n",
            " \"page_content='320  Chapter  12  Binary  Search  Trees  \\\\n12.2-2  \\\\nWrite \"\n",
            " 'recursive versions of T REE-MINIMUM and T REE-MAXIMUM . \\\\n12.2-3  \\\\nWrite '\n",
            " 'the T REE-PREDECESSOR  procedure. \\\\n12.2-4  \\\\nProfessor  Kilmer  claims  '\n",
            " 'to have  discovered  a remarkable  property of binary search \\\\ntrees. '\n",
            " 'Suppose that the search for key k in a binary search tree ends up at a leaf. '\n",
            " '\\\\nConsider three sets: A, the keys to the left of the search path; B , the '\n",
            " \"keys on')]}\")\n",
            "'\\n---\\n'\n",
            "Key:vectorstore\n",
            "('A binary search tree is organized in a binary tree structure where the keys '\n",
            " \"in the left subtree of a node are less than the node's key, and the keys in \"\n",
            " 'the right subtree are greater. Operations on binary search trees include '\n",
            " 'searching for a value, finding the minimum or maximum element, finding the '\n",
            " 'predecessor or successor of an element, and inserting or deleting nodes. '\n",
            " 'Different binary search trees can represent the same set of values, and the '\n",
            " 'worst-case running time for most search-tree operations is proportional.')\n",
            "Question: Give me 2 MCQ's interview questions along with 4 options in Binary Search tree topic from the web. State the correct answer. Let the difficulty level be Easy\n",
            "---ROUTE QUESTION---\n",
            "---ROUTE QUESTION TO WEB SEARCH---\n",
            "---WEB SEARCH---\n",
            "\"Node 'web_search':\"\n",
            "('Value: {\\'question\\': \"Give me 2 MCQ\\'s interview questions along with 4 '\n",
            " 'options in Binary Search tree topic from the web. State the correct answer. '\n",
            " 'Let the difficulty level be Easy\", \\'generation\\': Document(metadata={}, '\n",
            " \"page_content='Binary Search Tree (BST) – Interview Questions and Practice \"\n",
            " 'Problems Binary Search Tree (BST) – Interview Questions and Practice '\n",
            " 'Problems A Binary Search Tree (BST) is a tree data structure in which each '\n",
            " 'node has at most two children, which are referred to as the left child and '\n",
            " 'the right child, and the topmost node in the tree is called the root. They '\n",
            " 'keep their keys in sorted order so that lookup and other operations can use '\n",
            " 'the principle of binary search: when looking for a key in a tree (or a place '\n",
            " 'to insert a new key), they traverse the tree from root to leaf, making '\n",
            " 'comparisons to keys stored in the nodes of the tree and deciding, based on '\n",
            " 'the comparison, to continue searching in the left or right subtrees.\\\\nLearn '\n",
            " 'Binary Search Trees(B Tree) MCQ Questions and answers with easy and logical '\n",
            " 'explanations in Data Structure. Binary Search Trees(B Tree) MCQ question '\n",
            " 'provides all type of technical mcq questions which is important for '\n",
            " 'technical exams, campus exams and other entrance examination.\\\\nBinary '\n",
            " 'Search Tree Questions and Answers - Sanfoundry Data Structure Questions and '\n",
            " 'Answers – Binary Search Tree c) The left and right sub-trees should also be '\n",
            " 'binary search trees Explanation: As a binary search tree consists of '\n",
            " 'elements lesser than the node to the left and the ones greater than the node '\n",
            " 'to the right, an inorder traversal will give the elements in an increasing '\n",
            " 'order. Java Program to Perform Right and Left Rotation on a Binary Search '\n",
            " 'Tree C++ Program to Search for an Element in a Binary Search Tree C Program '\n",
            " 'to Search a Node in Binary Tree Data Structure Questions and Answers – '\n",
            " 'Threaded Binary Tree\\\\nTop MCQs on Binary Search Tree (BST) Data Structure '\n",
            " 'with Answers Quiz will help you to test and validate your DSA Quiz '\n",
            " 'knowledge. It covers a variety of questions, from basic to advanced. The '\n",
            " 'quiz contains 41 questions. You just have to assess all the given options '\n",
            " 'and click on the correct answer.\\\\nOption 3 : It is a binary search tree. '\n",
            " 'Binary search tree: A BST is a tree in which all the nodes follow the two '\n",
            " 'properties. So, option 3) it is a binary search tree is incorrect here. '\n",
            " 'Which of the following is/are correct in-order traversal sequence(s) of '\n",
            " 'binary search tree(s)? The following numbers are inserted into an empty '\n",
            " 'binary search tree in the given order: 10, 1, 3, 5, 15, 12, 16. A binary '\n",
            " 'search tree (BST) is a node-based binary tree data structure and it follows '\n",
            " 'the following points A binary search tree is constructed by inserting the '\n",
            " 'following numbers in order: Suppose the numbers 7, 5, 1, 8, 3, 6, 0, 9, 4, 2 '\n",
            " \"are inserted in that order into an initially empty binary search tree.'), \"\n",
            " \"'documents': None}\")\n",
            "'\\n---\\n'\n",
            "Key:web_search\n",
            "Document(metadata={}, page_content='Binary Search Tree (BST) – Interview Questions and Practice Problems Binary Search Tree (BST) – Interview Questions and Practice Problems A Binary Search Tree (BST) is a tree data structure in which each node has at most two children, which are referred to as the left child and the right child, and the topmost node in the tree is called the root. They keep their keys in sorted order so that lookup and other operations can use the principle of binary search: when looking for a key in a tree (or a place to insert a new key), they traverse the tree from root to leaf, making comparisons to keys stored in the nodes of the tree and deciding, based on the comparison, to continue searching in the left or right subtrees.\\nLearn Binary Search Trees(B Tree) MCQ Questions and answers with easy and logical explanations in Data Structure. Binary Search Trees(B Tree) MCQ question provides all type of technical mcq questions which is important for technical exams, campus exams and other entrance examination.\\nBinary Search Tree Questions and Answers - Sanfoundry Data Structure Questions and Answers – Binary Search Tree c) The left and right sub-trees should also be binary search trees Explanation: As a binary search tree consists of elements lesser than the node to the left and the ones greater than the node to the right, an inorder traversal will give the elements in an increasing order. Java Program to Perform Right and Left Rotation on a Binary Search Tree C++ Program to Search for an Element in a Binary Search Tree C Program to Search a Node in Binary Tree Data Structure Questions and Answers – Threaded Binary Tree\\nTop MCQs on Binary Search Tree (BST) Data Structure with Answers Quiz will help you to test and validate your DSA Quiz knowledge. It covers a variety of questions, from basic to advanced. The quiz contains 41 questions. You just have to assess all the given options and click on the correct answer.\\nOption 3 : It is a binary search tree. Binary search tree: A BST is a tree in which all the nodes follow the two properties. So, option 3) it is a binary search tree is incorrect here. Which of the following is/are correct in-order traversal sequence(s) of binary search tree(s)? The following numbers are inserted into an empty binary search tree in the given order: 10, 1, 3, 5, 15, 12, 16. A binary search tree (BST) is a node-based binary tree data structure and it follows the following points A binary search tree is constructed by inserting the following numbers in order: Suppose the numbers 7, 5, 1, 8, 3, 6, 0, 9, 4, 2 are inserted in that order into an initially empty binary search tree.')\n"
          ]
        }
      ]
    },
    {
      "cell_type": "code",
      "source": [
        "# Run\n",
        "inputs = {\n",
        "    \"question\": \"Give me a brief note on Red black trees?\"\n",
        "}\n",
        "for output in app.stream(inputs):\n",
        "    for key, value in output.items():\n",
        "        # Node\n",
        "        pprint(f\"Node '{key}':\")\n",
        "        # Optional: print full state at each node\n",
        "        # pprint.pprint(value[\"keys\"], indent=2, width=80, depth=None)\n",
        "        pprint(value)\n",
        "    pprint(\"\\n---\\n\")\n",
        "\n",
        "# Final generation\n",
        "pprint(value[\"generation\"])"
      ],
      "metadata": {
        "colab": {
          "base_uri": "https://localhost:8080/"
        },
        "id": "C3U6wX4Sl7hG",
        "outputId": "54e05d9c-73cf-4557-9796-bdefcad8e62c"
      },
      "execution_count": 63,
      "outputs": [
        {
          "output_type": "stream",
          "name": "stdout",
          "text": [
            "---ROUTE QUESTION---\n",
            "---ROUTE QUESTION TO RAG---\n",
            "---RETRIEVE---\n",
            "---GENERATE---\n",
            "\"Node 'vectorstore':\"\n",
            "{'documents': [Document(metadata={'source': 'data/BinarySearchTrees.pdf', 'page': 25}, page_content='red-black  tree?  What  if it is colored  black?  \\n13.1-3  \\nDeûne  a relaxed  red-black  tree  as a binary  search  tree  that  satisûes  red-black  prop-  \\nerties  1, 3, 4, and  5, but  whose  root  may  be either  red  or black.  Consider a relaxed \\nred-black  tree  T whose root is red. If the root of T is changed to black but no other \\nchanges  occur,  is the  resulting  tree  a red-black  tree?'),\n",
            "               Document(metadata={'source': 'data/BinarySearchTrees.pdf', 'page': 23}, page_content='332  Chapter  13  Red-Black  Trees  \\n4. If a node  is red,  then  both  its  children  are  black.  \\n5. For  each  node,  all  simple  paths  from  the  node  to descendant  leaves contain the \\nsame number of black nodes. \\nFigure  13.1(a)  shows  an example  of a red-black  tree.  \\nAs a matter of convenience in dealing with boundary  conditions in red-black  \\ntree code, we use a single sentinel to represent NIL (see  page  262).  For  a red-black'),\n",
            "               Document(metadata={'source': 'data/BinarySearchTrees.pdf', 'page': 22}, page_content='color , which can be either RED or BLACK . By constraining the node colors on \\nany  simple  path  from  the  root  to a leaf,  red-black  trees  ensur e that no such path is \\nmore than twice as long as any other, so that the t ree is approximately balanced . \\nIndeed,  as we’re  about  to see,  the  height  of a red-black  tree  with n keys is at most \\n2 lg.n C 1/, which is O.lg n/. \\nEach node of the tree now contains the attributes color  , key, left , right , and p. If'),\n",
            "               Document(metadata={'source': 'data/BinarySearchTrees.pdf', 'page': 26}, page_content='the  resulting  tree?  \\n13.1-5  \\nShow that the longest simple path from a node x in a red-black  tree  to a descendant  \\nleaf has length at most twice that of the shortest simple path from node x to a \\ndescendant leaf. \\n13.1-6  \\nWhat is the largest possible number of internal nod es in a red-black  tree  with  black-  \\nheight k? What  is the  smallest  possible  number?  \\n13.1-7  \\nDescribe  a red-black  tree  on  n keys  that  realizes  the  largest  possible  ratio  of red  in-')],\n",
            " 'generation': 'Red-black trees are a type of binary search tree that '\n",
            "               'satisfies specific properties, including having red nodes with '\n",
            "               'black children and equal numbers of black nodes on all paths. '\n",
            "               'They ensure approximately balanced trees by limiting the '\n",
            "               'length of paths from the root to leaves. The height of a '\n",
            "               'red-black tree with n keys is at most 2 lg n + 1.',\n",
            " 'question': 'Give me a brief note on Red black trees?'}\n",
            "'\\n---\\n'\n",
            "('Red-black trees are a type of binary search tree that satisfies specific '\n",
            " 'properties, including having red nodes with black children and equal numbers '\n",
            " 'of black nodes on all paths. They ensure approximately balanced trees by '\n",
            " 'limiting the length of paths from the root to leaves. The height of a '\n",
            " 'red-black tree with n keys is at most 2 lg n + 1.')\n"
          ]
        }
      ]
    }
  ]
}