{
  "nbformat": 4,
  "nbformat_minor": 0,
  "metadata": {
    "colab": {
      "provenance": []
    },
    "kernelspec": {
      "name": "python3",
      "display_name": "Python 3"
    },
    "language_info": {
      "name": "python"
    }
  },
  "cells": [
    {
      "cell_type": "markdown",
      "source": [
        "# Text to speech implementation using openAI and Langchain"
      ],
      "metadata": {
        "id": "OqkNCAmZgg4b"
      }
    },
    {
      "cell_type": "markdown",
      "source": [
        "Text to speech can be used in many scenarios where the chatbot generated answers can be converted into a speech.\n",
        "\n",
        "\n",
        "1. Accessibility & Assistive Technology\n",
        "\n",
        " a. Screen Readers – Helps visually impaired users access digital content (e.g., JAWS, NVDA).\n",
        "\n",
        " b. Voice Assistants – Used in AI assistants like Siri, Alexa, and Google Assistant.\n",
        "\n",
        " c. Dyslexia Support – Helps individuals with dyslexia by reading out text.\n",
        "\n",
        "2. Customer Service & IVR (Interactive Voice Response)\n",
        "\n",
        " a. Automated Call Centers – Used in IVR systems to respond to customer queries.\n",
        " b. Chatbot Integration – Enhances AI chatbots by adding a voice response system.\n",
        " c. Multilingual Support – Converts text to speech in multiple languages for global customers.\n",
        "\n",
        "3. Education & E-Learning\n",
        "\n",
        " a. Audiobooks & Podcasts – Converts books into audio format for learning on the go.\n",
        "\n",
        " b. Language Learning – Helps with pronunciation and listening comprehension.\n",
        "\n",
        " c. Lecture Transcription & Narration – Converts text-based lectures into voice formats.\n",
        "\n",
        "4. Content Creation & Media\n",
        "\n",
        " a. YouTube & Video Voiceovers – Generates human-like narrations for video content.\n",
        "\n",
        " b. News & Article Reading – Converts news articles into audio for easier consumption.\n",
        "\n",
        " c. Gaming & VR – Provides voice interactions for characters in games.\n",
        "\n",
        "5. Healthcare & Telemedicine\n",
        "\n",
        " a. Patient Communication – Reads medical reports for patients with low literacy.\n",
        "\n",
        " b. Medication Reminders – Voice alerts for elderly patients about medication schedules.\n",
        "\n",
        " c. Mental Health Support – AI-driven voice counseling services.\n",
        "\n",
        "6. Smart Devices & IoT\n",
        "\n",
        " a. Smart Home Automation – Reads notifications aloud (e.g. weather updates).\n",
        "\n",
        " b. Car Assistants – Reads messages, navigation instructions, or alerts while driving.\n",
        "\n",
        " c. Wearables – Used in smartwatches for voice-based notifications.\n",
        "\n",
        "7. Workplace Productivity\n",
        "\n",
        " a. Meeting Transcriptions & Summaries – Converts meeting notes into summaries.\n",
        "\n",
        " b. Document Narration – Read reports, emails, and legal documents aloud.\n",
        "\n",
        " c. Voice-Powered Notetaking – Helps professionals review notes hands-free."
      ],
      "metadata": {
        "id": "HmQMofAJc6JP"
      }
    },
    {
      "cell_type": "markdown",
      "source": [
        "##Setting Up the Environment"
      ],
      "metadata": {
        "id": "ZxnJx9i0fUAm"
      }
    },
    {
      "cell_type": "code",
      "execution_count": 2,
      "metadata": {
        "colab": {
          "base_uri": "https://localhost:8080/"
        },
        "collapsed": true,
        "id": "QepWaI8WBG-_",
        "outputId": "2cd47efe-606b-451e-8239-7c4a46938ce6"
      },
      "outputs": [
        {
          "output_type": "stream",
          "name": "stdout",
          "text": [
            "Requirement already satisfied: langchain in /usr/local/lib/python3.11/dist-packages (0.3.20)\n",
            "Collecting elevenlabs\n",
            "  Downloading elevenlabs-1.54.0-py3-none-any.whl.metadata (7.3 kB)\n",
            "Requirement already satisfied: langchain-core<1.0.0,>=0.3.41 in /usr/local/lib/python3.11/dist-packages (from langchain) (0.3.44)\n",
            "Requirement already satisfied: langchain-text-splitters<1.0.0,>=0.3.6 in /usr/local/lib/python3.11/dist-packages (from langchain) (0.3.6)\n",
            "Requirement already satisfied: langsmith<0.4,>=0.1.17 in /usr/local/lib/python3.11/dist-packages (from langchain) (0.3.13)\n",
            "Requirement already satisfied: pydantic<3.0.0,>=2.7.4 in /usr/local/lib/python3.11/dist-packages (from langchain) (2.10.6)\n",
            "Requirement already satisfied: SQLAlchemy<3,>=1.4 in /usr/local/lib/python3.11/dist-packages (from langchain) (2.0.39)\n",
            "Requirement already satisfied: requests<3,>=2 in /usr/local/lib/python3.11/dist-packages (from langchain) (2.32.3)\n",
            "Requirement already satisfied: PyYAML>=5.3 in /usr/local/lib/python3.11/dist-packages (from langchain) (6.0.2)\n",
            "Requirement already satisfied: httpx>=0.21.2 in /usr/local/lib/python3.11/dist-packages (from elevenlabs) (0.28.1)\n",
            "Requirement already satisfied: pydantic-core<3.0.0,>=2.18.2 in /usr/local/lib/python3.11/dist-packages (from elevenlabs) (2.27.2)\n",
            "Requirement already satisfied: typing_extensions>=4.0.0 in /usr/local/lib/python3.11/dist-packages (from elevenlabs) (4.12.2)\n",
            "Requirement already satisfied: websockets>=11.0 in /usr/local/lib/python3.11/dist-packages (from elevenlabs) (14.2)\n",
            "Requirement already satisfied: anyio in /usr/local/lib/python3.11/dist-packages (from httpx>=0.21.2->elevenlabs) (3.7.1)\n",
            "Requirement already satisfied: certifi in /usr/local/lib/python3.11/dist-packages (from httpx>=0.21.2->elevenlabs) (2025.1.31)\n",
            "Requirement already satisfied: httpcore==1.* in /usr/local/lib/python3.11/dist-packages (from httpx>=0.21.2->elevenlabs) (1.0.7)\n",
            "Requirement already satisfied: idna in /usr/local/lib/python3.11/dist-packages (from httpx>=0.21.2->elevenlabs) (3.10)\n",
            "Requirement already satisfied: h11<0.15,>=0.13 in /usr/local/lib/python3.11/dist-packages (from httpcore==1.*->httpx>=0.21.2->elevenlabs) (0.14.0)\n",
            "Requirement already satisfied: tenacity!=8.4.0,<10.0.0,>=8.1.0 in /usr/local/lib/python3.11/dist-packages (from langchain-core<1.0.0,>=0.3.41->langchain) (9.0.0)\n",
            "Requirement already satisfied: jsonpatch<2.0,>=1.33 in /usr/local/lib/python3.11/dist-packages (from langchain-core<1.0.0,>=0.3.41->langchain) (1.33)\n",
            "Requirement already satisfied: packaging<25,>=23.2 in /usr/local/lib/python3.11/dist-packages (from langchain-core<1.0.0,>=0.3.41->langchain) (24.2)\n",
            "Requirement already satisfied: orjson<4.0.0,>=3.9.14 in /usr/local/lib/python3.11/dist-packages (from langsmith<0.4,>=0.1.17->langchain) (3.10.15)\n",
            "Requirement already satisfied: requests-toolbelt<2.0.0,>=1.0.0 in /usr/local/lib/python3.11/dist-packages (from langsmith<0.4,>=0.1.17->langchain) (1.0.0)\n",
            "Requirement already satisfied: zstandard<0.24.0,>=0.23.0 in /usr/local/lib/python3.11/dist-packages (from langsmith<0.4,>=0.1.17->langchain) (0.23.0)\n",
            "Requirement already satisfied: annotated-types>=0.6.0 in /usr/local/lib/python3.11/dist-packages (from pydantic<3.0.0,>=2.7.4->langchain) (0.7.0)\n",
            "Requirement already satisfied: charset-normalizer<4,>=2 in /usr/local/lib/python3.11/dist-packages (from requests<3,>=2->langchain) (3.4.1)\n",
            "Requirement already satisfied: urllib3<3,>=1.21.1 in /usr/local/lib/python3.11/dist-packages (from requests<3,>=2->langchain) (2.3.0)\n",
            "Requirement already satisfied: greenlet!=0.4.17 in /usr/local/lib/python3.11/dist-packages (from SQLAlchemy<3,>=1.4->langchain) (3.1.1)\n",
            "Requirement already satisfied: jsonpointer>=1.9 in /usr/local/lib/python3.11/dist-packages (from jsonpatch<2.0,>=1.33->langchain-core<1.0.0,>=0.3.41->langchain) (3.0.0)\n",
            "Requirement already satisfied: sniffio>=1.1 in /usr/local/lib/python3.11/dist-packages (from anyio->httpx>=0.21.2->elevenlabs) (1.3.1)\n",
            "Downloading elevenlabs-1.54.0-py3-none-any.whl (347 kB)\n",
            "\u001b[2K   \u001b[90m━━━━━━━━━━━━━━━━━━━━━━━━━━━━━━━━━━━━━━━━\u001b[0m \u001b[32m347.5/347.5 kB\u001b[0m \u001b[31m4.5 MB/s\u001b[0m eta \u001b[36m0:00:00\u001b[0m\n",
            "\u001b[?25hInstalling collected packages: elevenlabs\n",
            "Successfully installed elevenlabs-1.54.0\n"
          ]
        }
      ],
      "source": [
        "!pip install langchain\n",
        "!pip show openai"
      ]
    },
    {
      "cell_type": "code",
      "source": [
        "from langchain_openai import OpenAI\n",
        "from langchain.tools import Tool"
      ],
      "metadata": {
        "id": "vopXhkdoGHlT"
      },
      "execution_count": 4,
      "outputs": []
    },
    {
      "cell_type": "code",
      "source": [
        "import getpass\n",
        "import os\n",
        "\n",
        "# Load environment variables from a .env file\n",
        "from google.colab import userdata\n",
        "os.environ[\"OPENAI_API_KEY\"]=userdata.get('OPENAI_API_KEY')\n"
      ],
      "metadata": {
        "id": "vHSlsr3TGeE-"
      },
      "execution_count": 5,
      "outputs": []
    },
    {
      "cell_type": "markdown",
      "source": [
        "## Building the Text-to-Speech System"
      ],
      "metadata": {
        "id": "O3iLOPDvflQe"
      }
    },
    {
      "cell_type": "code",
      "source": [
        "import os\n",
        "from langchain.chat_models import ChatOpenAI\n",
        "import openai\n",
        "\n",
        "# Initialize LangChain OpenAI model\n",
        "llm = ChatOpenAI(model_name=\"gpt-4\", temperature=0.7)"
      ],
      "metadata": {
        "id": "LJv1galDckCz"
      },
      "execution_count": null,
      "outputs": []
    },
    {
      "cell_type": "markdown",
      "source": [
        "#### Generate the text for the prompt and send the generated response to OpenAI's text to speech API. Find the results in \"output.mp3\" audio file."
      ],
      "metadata": {
        "id": "2G4iKa7ngtLS"
      }
    },
    {
      "cell_type": "code",
      "source": [
        "def generate_text(prompt):\n",
        "    \"\"\"Generate text using LangChain's OpenAI wrapper\"\"\"\n",
        "    return llm.predict(prompt)\n",
        "\n",
        "def text_to_speech(text, output_file=\"output.mp3\"):\n",
        "    \"\"\"Convert generated text to speech using OpenAI's TTS API\"\"\"\n",
        "    response = openai.audio.speech.create(\n",
        "        model=\"tts-1\",\n",
        "        voice=\"alloy\",\n",
        "        input=text\n",
        "    )\n",
        "\n",
        "    with open(output_file, \"wb\") as f:\n",
        "        f.write(response.content)\n",
        "\n",
        "    print(f\"Speech saved as {output_file}\")"
      ],
      "metadata": {
        "id": "IjqItRQ7ciPQ"
      },
      "execution_count": null,
      "outputs": []
    },
    {
      "cell_type": "code",
      "source": [
        "if __name__ == \"__main__\":\n",
        "    # Example: Generate text dynamically\n",
        "    prompt = \"Tell me a short story for an 8 year old boy in English.\"\n",
        "    generated_text = generate_text(prompt)\n",
        "    print(\"Generated Text:\", generated_text)\n",
        "\n",
        "    # Convert generated text to speech\n",
        "    text_to_speech(generated_text)\n"
      ],
      "metadata": {
        "colab": {
          "base_uri": "https://localhost:8080/"
        },
        "id": "qKOF6ebrZyhg",
        "outputId": "0da121f1-1bf2-4aef-97bd-64496af8202c"
      },
      "execution_count": 19,
      "outputs": [
        {
          "output_type": "stream",
          "name": "stdout",
          "text": [
            "Generated Text: Title: The Adventure of Brave Little Timmy \n",
            "\n",
            "Once upon a time, in a small town named Maplewood, lived a young boy named Timmy. Timmy was an adventurous and brave eight-year-old boy with curly brown hair and sparkling blue eyes. He loved exploring the woods behind his house, making friends with the animals and insects, and imagining himself as a brave explorer in a magical world.\n",
            "\n",
            "One sunny afternoon, while Timmy was exploring the woods, he stumbled upon a strange-looking, shiny rock. As soon as he touched it, the rock started to glow and transformed into a magical map. The map was a way to the hidden treasure of Maplewood. Timmy's heart pounded with excitement; he was about to embark on a real-life adventure!\n",
            "\n",
            "The map led him through winding paths, across the babbling brook, and underneath the tallest tree in the woods. It was a tough journey; he had to climb steep hills, cross a slippery log over the brook, and even encounter a grumpy old bear. But Timmy was not afraid! He knew that with courage and determination, he could overcome anything.\n",
            "\n",
            "After hours of walking, he finally reached the spot marked on the map: a small cave hidden behind a waterfall. With a deep breath, he entered the cave. It was dark inside, but he could see a faint glow at the end of the tunnel. \n",
            "\n",
            "He followed the glow and found an old wooden chest. With shaky hands, he opened it up and gasped. Inside the chest were gold coins, sparkling jewels, and an ancient golden crown. But what caught his eye the most was a small, golden key.\n",
            "\n",
            "As he picked up the key, a soft voice echoed in the cave, \"You have shown great bravery, young adventurer. This key opens the door to endless adventures. Use it wisely.\"\n",
            "\n",
            "Timmy felt a rush of excitement. He was now the keeper of adventures! With a newfound sense of responsibility and joy, he thanked the voice and promised to use the key wisely.\n",
            "\n",
            "He returned home, his pockets full of gold coins and his heart full of stories. From that day on, Timmy became the town's hero and had the most exciting stories to share, all thanks to his bravery, courage, and the magical key.\n",
            "\n",
            "And so, Timmy's life was filled with endless adventures, each one more exciting than the last. He learned that bravery and courage could turn even the most ordinary day into an extraordinary adventure. And that's how brave little Timmy became the greatest adventurer in all of Maplewood. \n",
            "\n",
            "And remember, every adventure begins with a brave step. Are you ready for your adventure?\n",
            "\n",
            "The End.\n",
            "Speech saved as output.mp3\n"
          ]
        }
      ]
    },
    {
      "cell_type": "markdown",
      "source": [],
      "metadata": {
        "id": "gDaKXltfgqlC"
      }
    }
  ]
}