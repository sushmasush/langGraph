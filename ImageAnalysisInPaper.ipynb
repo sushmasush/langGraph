{
  "nbformat": 4,
  "nbformat_minor": 0,
  "metadata": {
    "colab": {
      "provenance": []
    },
    "kernelspec": {
      "name": "python3",
      "display_name": "Python 3"
    },
    "language_info": {
      "name": "python"
    },
    "widgets": {
      "application/vnd.jupyter.widget-state+json": {
        "963d26b4661447a4ba7ceb506718cf51": {
          "model_module": "@jupyter-widgets/controls",
          "model_name": "HBoxModel",
          "model_module_version": "1.5.0",
          "state": {
            "_dom_classes": [],
            "_model_module": "@jupyter-widgets/controls",
            "_model_module_version": "1.5.0",
            "_model_name": "HBoxModel",
            "_view_count": null,
            "_view_module": "@jupyter-widgets/controls",
            "_view_module_version": "1.5.0",
            "_view_name": "HBoxView",
            "box_style": "",
            "children": [
              "IPY_MODEL_388b6b6fbc644c49b62168a4317786f5",
              "IPY_MODEL_914c914c4687483994256fe560e9b926",
              "IPY_MODEL_e632763771da447986ca28a04427b9be"
            ],
            "layout": "IPY_MODEL_c0342f6ba4ff4a86a5eba4d1ed2b956d"
          }
        },
        "388b6b6fbc644c49b62168a4317786f5": {
          "model_module": "@jupyter-widgets/controls",
          "model_name": "HTMLModel",
          "model_module_version": "1.5.0",
          "state": {
            "_dom_classes": [],
            "_model_module": "@jupyter-widgets/controls",
            "_model_module_version": "1.5.0",
            "_model_name": "HTMLModel",
            "_view_count": null,
            "_view_module": "@jupyter-widgets/controls",
            "_view_module_version": "1.5.0",
            "_view_name": "HTMLView",
            "description": "",
            "description_tooltip": null,
            "layout": "IPY_MODEL_6d9a9dd021994450b0e71246abc1b5bc",
            "placeholder": "​",
            "style": "IPY_MODEL_c1dc415b3a1e4eada7bc0a048287bdca",
            "value": "yolox_l0.05.onnx: 100%"
          }
        },
        "914c914c4687483994256fe560e9b926": {
          "model_module": "@jupyter-widgets/controls",
          "model_name": "FloatProgressModel",
          "model_module_version": "1.5.0",
          "state": {
            "_dom_classes": [],
            "_model_module": "@jupyter-widgets/controls",
            "_model_module_version": "1.5.0",
            "_model_name": "FloatProgressModel",
            "_view_count": null,
            "_view_module": "@jupyter-widgets/controls",
            "_view_module_version": "1.5.0",
            "_view_name": "ProgressView",
            "bar_style": "success",
            "description": "",
            "description_tooltip": null,
            "layout": "IPY_MODEL_358315675f7e455c8e23a1be519e1995",
            "max": 216625723,
            "min": 0,
            "orientation": "horizontal",
            "style": "IPY_MODEL_faa357bec6624b1eaf678872fd1e482d",
            "value": 216625723
          }
        },
        "e632763771da447986ca28a04427b9be": {
          "model_module": "@jupyter-widgets/controls",
          "model_name": "HTMLModel",
          "model_module_version": "1.5.0",
          "state": {
            "_dom_classes": [],
            "_model_module": "@jupyter-widgets/controls",
            "_model_module_version": "1.5.0",
            "_model_name": "HTMLModel",
            "_view_count": null,
            "_view_module": "@jupyter-widgets/controls",
            "_view_module_version": "1.5.0",
            "_view_name": "HTMLView",
            "description": "",
            "description_tooltip": null,
            "layout": "IPY_MODEL_6c7e8d0c7b9c40d39a8188ba72ab733d",
            "placeholder": "​",
            "style": "IPY_MODEL_103e175d8ded463393a7533b89c8d686",
            "value": " 217M/217M [00:01&lt;00:00, 167MB/s]"
          }
        },
        "c0342f6ba4ff4a86a5eba4d1ed2b956d": {
          "model_module": "@jupyter-widgets/base",
          "model_name": "LayoutModel",
          "model_module_version": "1.2.0",
          "state": {
            "_model_module": "@jupyter-widgets/base",
            "_model_module_version": "1.2.0",
            "_model_name": "LayoutModel",
            "_view_count": null,
            "_view_module": "@jupyter-widgets/base",
            "_view_module_version": "1.2.0",
            "_view_name": "LayoutView",
            "align_content": null,
            "align_items": null,
            "align_self": null,
            "border": null,
            "bottom": null,
            "display": null,
            "flex": null,
            "flex_flow": null,
            "grid_area": null,
            "grid_auto_columns": null,
            "grid_auto_flow": null,
            "grid_auto_rows": null,
            "grid_column": null,
            "grid_gap": null,
            "grid_row": null,
            "grid_template_areas": null,
            "grid_template_columns": null,
            "grid_template_rows": null,
            "height": null,
            "justify_content": null,
            "justify_items": null,
            "left": null,
            "margin": null,
            "max_height": null,
            "max_width": null,
            "min_height": null,
            "min_width": null,
            "object_fit": null,
            "object_position": null,
            "order": null,
            "overflow": null,
            "overflow_x": null,
            "overflow_y": null,
            "padding": null,
            "right": null,
            "top": null,
            "visibility": null,
            "width": null
          }
        },
        "6d9a9dd021994450b0e71246abc1b5bc": {
          "model_module": "@jupyter-widgets/base",
          "model_name": "LayoutModel",
          "model_module_version": "1.2.0",
          "state": {
            "_model_module": "@jupyter-widgets/base",
            "_model_module_version": "1.2.0",
            "_model_name": "LayoutModel",
            "_view_count": null,
            "_view_module": "@jupyter-widgets/base",
            "_view_module_version": "1.2.0",
            "_view_name": "LayoutView",
            "align_content": null,
            "align_items": null,
            "align_self": null,
            "border": null,
            "bottom": null,
            "display": null,
            "flex": null,
            "flex_flow": null,
            "grid_area": null,
            "grid_auto_columns": null,
            "grid_auto_flow": null,
            "grid_auto_rows": null,
            "grid_column": null,
            "grid_gap": null,
            "grid_row": null,
            "grid_template_areas": null,
            "grid_template_columns": null,
            "grid_template_rows": null,
            "height": null,
            "justify_content": null,
            "justify_items": null,
            "left": null,
            "margin": null,
            "max_height": null,
            "max_width": null,
            "min_height": null,
            "min_width": null,
            "object_fit": null,
            "object_position": null,
            "order": null,
            "overflow": null,
            "overflow_x": null,
            "overflow_y": null,
            "padding": null,
            "right": null,
            "top": null,
            "visibility": null,
            "width": null
          }
        },
        "c1dc415b3a1e4eada7bc0a048287bdca": {
          "model_module": "@jupyter-widgets/controls",
          "model_name": "DescriptionStyleModel",
          "model_module_version": "1.5.0",
          "state": {
            "_model_module": "@jupyter-widgets/controls",
            "_model_module_version": "1.5.0",
            "_model_name": "DescriptionStyleModel",
            "_view_count": null,
            "_view_module": "@jupyter-widgets/base",
            "_view_module_version": "1.2.0",
            "_view_name": "StyleView",
            "description_width": ""
          }
        },
        "358315675f7e455c8e23a1be519e1995": {
          "model_module": "@jupyter-widgets/base",
          "model_name": "LayoutModel",
          "model_module_version": "1.2.0",
          "state": {
            "_model_module": "@jupyter-widgets/base",
            "_model_module_version": "1.2.0",
            "_model_name": "LayoutModel",
            "_view_count": null,
            "_view_module": "@jupyter-widgets/base",
            "_view_module_version": "1.2.0",
            "_view_name": "LayoutView",
            "align_content": null,
            "align_items": null,
            "align_self": null,
            "border": null,
            "bottom": null,
            "display": null,
            "flex": null,
            "flex_flow": null,
            "grid_area": null,
            "grid_auto_columns": null,
            "grid_auto_flow": null,
            "grid_auto_rows": null,
            "grid_column": null,
            "grid_gap": null,
            "grid_row": null,
            "grid_template_areas": null,
            "grid_template_columns": null,
            "grid_template_rows": null,
            "height": null,
            "justify_content": null,
            "justify_items": null,
            "left": null,
            "margin": null,
            "max_height": null,
            "max_width": null,
            "min_height": null,
            "min_width": null,
            "object_fit": null,
            "object_position": null,
            "order": null,
            "overflow": null,
            "overflow_x": null,
            "overflow_y": null,
            "padding": null,
            "right": null,
            "top": null,
            "visibility": null,
            "width": null
          }
        },
        "faa357bec6624b1eaf678872fd1e482d": {
          "model_module": "@jupyter-widgets/controls",
          "model_name": "ProgressStyleModel",
          "model_module_version": "1.5.0",
          "state": {
            "_model_module": "@jupyter-widgets/controls",
            "_model_module_version": "1.5.0",
            "_model_name": "ProgressStyleModel",
            "_view_count": null,
            "_view_module": "@jupyter-widgets/base",
            "_view_module_version": "1.2.0",
            "_view_name": "StyleView",
            "bar_color": null,
            "description_width": ""
          }
        },
        "6c7e8d0c7b9c40d39a8188ba72ab733d": {
          "model_module": "@jupyter-widgets/base",
          "model_name": "LayoutModel",
          "model_module_version": "1.2.0",
          "state": {
            "_model_module": "@jupyter-widgets/base",
            "_model_module_version": "1.2.0",
            "_model_name": "LayoutModel",
            "_view_count": null,
            "_view_module": "@jupyter-widgets/base",
            "_view_module_version": "1.2.0",
            "_view_name": "LayoutView",
            "align_content": null,
            "align_items": null,
            "align_self": null,
            "border": null,
            "bottom": null,
            "display": null,
            "flex": null,
            "flex_flow": null,
            "grid_area": null,
            "grid_auto_columns": null,
            "grid_auto_flow": null,
            "grid_auto_rows": null,
            "grid_column": null,
            "grid_gap": null,
            "grid_row": null,
            "grid_template_areas": null,
            "grid_template_columns": null,
            "grid_template_rows": null,
            "height": null,
            "justify_content": null,
            "justify_items": null,
            "left": null,
            "margin": null,
            "max_height": null,
            "max_width": null,
            "min_height": null,
            "min_width": null,
            "object_fit": null,
            "object_position": null,
            "order": null,
            "overflow": null,
            "overflow_x": null,
            "overflow_y": null,
            "padding": null,
            "right": null,
            "top": null,
            "visibility": null,
            "width": null
          }
        },
        "103e175d8ded463393a7533b89c8d686": {
          "model_module": "@jupyter-widgets/controls",
          "model_name": "DescriptionStyleModel",
          "model_module_version": "1.5.0",
          "state": {
            "_model_module": "@jupyter-widgets/controls",
            "_model_module_version": "1.5.0",
            "_model_name": "DescriptionStyleModel",
            "_view_count": null,
            "_view_module": "@jupyter-widgets/base",
            "_view_module_version": "1.2.0",
            "_view_name": "StyleView",
            "description_width": ""
          }
        }
      }
    }
  },
  "cells": [
    {
      "cell_type": "markdown",
      "source": [
        "#Image analysis in research paper\n",
        "\n"
      ],
      "metadata": {
        "id": "OzI72su4dWJk"
      }
    },
    {
      "cell_type": "markdown",
      "source": [
        "#### Install libraries needed"
      ],
      "metadata": {
        "id": "5HKJPu7pdcE9"
      }
    },
    {
      "cell_type": "code",
      "execution_count": null,
      "metadata": {
        "id": "cA-hinSUynsN"
      },
      "outputs": [],
      "source": [
        "%%capture --no-stderr\n",
        "%pip install -U langchain langchain_openai langsmith pandas langchain_experimental matplotlib langgraph langchain_core  faiss-cpu  pypdf langchain_community mdutils datasets langchain_huggingface xmltodict sentence-transformers langchain_groq langchain_ollama langchain_mistralai fitz jq langchain_cohere frontend\n",
        "%pip install -U PyMuPDF openai rapidocr-onnxruntime\n",
        "%pip install --upgrade --quiet \"unstructured[all-docs]\""
      ]
    },
    {
      "cell_type": "code",
      "source": [
        "!sudo apt install tesseract-ocr\n",
        "!pip install pytesseract"
      ],
      "metadata": {
        "colab": {
          "base_uri": "https://localhost:8080/"
        },
        "id": "embwjBmEkBtF",
        "outputId": "7c68159f-f4a2-4e8a-bf9e-8aadc86a07d7",
        "collapsed": true
      },
      "execution_count": null,
      "outputs": [
        {
          "output_type": "stream",
          "name": "stdout",
          "text": [
            "Reading package lists... Done\n",
            "Building dependency tree... Done\n",
            "Reading state information... Done\n",
            "The following additional packages will be installed:\n",
            "  tesseract-ocr-eng tesseract-ocr-osd\n",
            "The following NEW packages will be installed:\n",
            "  tesseract-ocr tesseract-ocr-eng tesseract-ocr-osd\n",
            "0 upgraded, 3 newly installed, 0 to remove and 49 not upgraded.\n",
            "Need to get 4,816 kB of archives.\n",
            "After this operation, 15.6 MB of additional disk space will be used.\n",
            "Get:1 http://archive.ubuntu.com/ubuntu jammy/universe amd64 tesseract-ocr-eng all 1:4.00~git30-7274cfa-1.1 [1,591 kB]\n",
            "Get:2 http://archive.ubuntu.com/ubuntu jammy/universe amd64 tesseract-ocr-osd all 1:4.00~git30-7274cfa-1.1 [2,990 kB]\n",
            "Get:3 http://archive.ubuntu.com/ubuntu jammy/universe amd64 tesseract-ocr amd64 4.1.1-2.1build1 [236 kB]\n",
            "Fetched 4,816 kB in 10s (491 kB/s)\n",
            "debconf: unable to initialize frontend: Dialog\n",
            "debconf: (No usable dialog-like program is installed, so the dialog based frontend cannot be used. at /usr/share/perl5/Debconf/FrontEnd/Dialog.pm line 78, <> line 3.)\n",
            "debconf: falling back to frontend: Readline\n",
            "debconf: unable to initialize frontend: Readline\n",
            "debconf: (This frontend requires a controlling tty.)\n",
            "debconf: falling back to frontend: Teletype\n",
            "dpkg-preconfigure: unable to re-open stdin: \n",
            "Selecting previously unselected package tesseract-ocr-eng.\n",
            "(Reading database ... 123632 files and directories currently installed.)\n",
            "Preparing to unpack .../tesseract-ocr-eng_1%3a4.00~git30-7274cfa-1.1_all.deb ...\n",
            "Unpacking tesseract-ocr-eng (1:4.00~git30-7274cfa-1.1) ...\n",
            "Selecting previously unselected package tesseract-ocr-osd.\n",
            "Preparing to unpack .../tesseract-ocr-osd_1%3a4.00~git30-7274cfa-1.1_all.deb ...\n",
            "Unpacking tesseract-ocr-osd (1:4.00~git30-7274cfa-1.1) ...\n",
            "Selecting previously unselected package tesseract-ocr.\n",
            "Preparing to unpack .../tesseract-ocr_4.1.1-2.1build1_amd64.deb ...\n",
            "Unpacking tesseract-ocr (4.1.1-2.1build1) ...\n",
            "Setting up tesseract-ocr-eng (1:4.00~git30-7274cfa-1.1) ...\n",
            "Setting up tesseract-ocr-osd (1:4.00~git30-7274cfa-1.1) ...\n",
            "Setting up tesseract-ocr (4.1.1-2.1build1) ...\n",
            "Processing triggers for man-db (2.10.2-1) ...\n",
            "Collecting pytesseract\n",
            "  Downloading pytesseract-0.3.13-py3-none-any.whl.metadata (11 kB)\n",
            "Requirement already satisfied: packaging>=21.3 in /usr/local/lib/python3.10/dist-packages (from pytesseract) (24.2)\n",
            "Requirement already satisfied: Pillow>=8.0.0 in /usr/local/lib/python3.10/dist-packages (from pytesseract) (11.0.0)\n",
            "Downloading pytesseract-0.3.13-py3-none-any.whl (14 kB)\n",
            "Installing collected packages: pytesseract\n",
            "Successfully installed pytesseract-0.3.13\n"
          ]
        }
      ]
    },
    {
      "cell_type": "markdown",
      "source": [
        "### Access data in the google drive from colab notebook"
      ],
      "metadata": {
        "id": "B0HYLFrkdjd-"
      }
    },
    {
      "cell_type": "code",
      "source": [
        "from google.colab import drive\n",
        "drive.mount('/content/drive')"
      ],
      "metadata": {
        "colab": {
          "base_uri": "https://localhost:8080/"
        },
        "id": "YTx3U1kihunx",
        "outputId": "81c4ad16-be0c-4ce3-c06d-9ce8b0c7a7ae"
      },
      "execution_count": null,
      "outputs": [
        {
          "output_type": "stream",
          "name": "stdout",
          "text": [
            "Drive already mounted at /content/drive; to attempt to forcibly remount, call drive.mount(\"/content/drive\", force_remount=True).\n"
          ]
        }
      ]
    },
    {
      "cell_type": "markdown",
      "source": [
        "#### Imports"
      ],
      "metadata": {
        "id": "POFN6C4UdojK"
      }
    },
    {
      "cell_type": "code",
      "source": [
        "from PIL import Image\n",
        "import io\n",
        "import os\n",
        "from dotenv import load_dotenv\n",
        "\n",
        "import google.generativeai as genai\n",
        "from langchain_core.prompts import ChatPromptTemplate\n",
        "from langchain_core.documents import Document\n",
        "from langchain.text_splitter import RecursiveCharacterTextSplitter\n",
        "from langchain_community.vectorstores import Chroma\n",
        "#from langchain_cohere import ChatCohere, CohereEmbeddings\n",
        "# Load environment variables from a .env file\n",
        "from google.colab import userdata\n",
        "from langchain_openai import ChatOpenAI\n",
        "from langchain.prompts import ChatPromptTemplate\n",
        "from langchain.schema.output_parser import StrOutputParser\n",
        "os.environ[\"OPENAI_API_KEY\"]=userdata.get('OPENAI_API_KEY')\n",
        "\n",
        "## Langsmith tracking\n",
        "os.environ[\"LANGCHAIN_TRACING_V2\"]=\"true\"\n",
        "os.environ[\"LANGCHAIN_API_KEY\"]=userdata.get('LANGCHAIN_API_KEY')\n",
        "os.environ[\"TAVILY_API_KEY\"]=userdata.get('TAVILY_API_KEY')\n",
        "os.environ[\"COHERE_API_KEY\"]=userdata.get('COHERE_API_KEY')\n",
        "import nest_asyncio\n",
        "from typing import List, TypedDict, Any, Tuple\n",
        "from pydantic import BaseModel, Field\n",
        "from langgraph.graph import StateGraph, END, START\n",
        "from datetime import date, datetime\n",
        "from langgraph.checkpoint.memory import MemorySaver\n",
        "import getpass\n",
        "from langchain_community.document_loaders import PyPDFLoader\n",
        "from langchain.text_splitter import RecursiveCharacterTextSplitter\n",
        "from langchain_community.vectorstores import FAISS\n",
        "from langchain.embeddings.openai import OpenAIEmbeddings\n",
        "from langchain.tools.retriever import create_retriever_tool\n",
        "from langgraph.prebuilt import create_react_agent\n",
        "from langchain.prompts import PromptTemplate\n",
        "from langchain.tools.retriever import create_retriever_tool\n",
        "from langchain_core.prompts import ChatPromptTemplate, MessagesPlaceholder\n",
        "from langchain_cohere import ChatCohere, CohereEmbeddings\n",
        "import fitz  # PyMuPDF\n",
        "from PIL import Image\n",
        "import io\n",
        "import os\n",
        "import base64\n",
        "import httpx\n",
        "from langchain_core.messages import HumanMessage\n",
        "import google.generativeai as genai\n",
        "from langchain_core.prompts import ChatPromptTemplate\n",
        "from langchain_core.documents import Document\n",
        "from langchain.text_splitter import RecursiveCharacterTextSplitter\n",
        "from langchain_community.vectorstores import Chroma\n",
        "from langchain_cohere import ChatCohere, CohereEmbeddings\n",
        "nest_asyncio.apply()\n",
        "from google.colab import drive\n",
        "from langchain_core.pydantic_v1 import BaseModel, Field\n",
        "from pprint import pprint\n",
        "import functools\n",
        "import operator\n",
        "from typing import Sequence\n",
        "from typing_extensions import TypedDict\n",
        "import operator\n",
        "from typing import Annotated, List, Tuple\n",
        "from typing_extensions import TypedDict\n",
        "from pydantic import BaseModel, Field\n",
        "from langchain_core.prompts import ChatPromptTemplate\n",
        "from langchain_core.messages import BaseMessage\n",
        "from langgraph.graph import END, StateGraph, START\n",
        "from langgraph.prebuilt import create_react_agent\n",
        "from langchain_core.prompts import PromptTemplate\n",
        "from typing import List\n",
        "from pydantic import BaseModel, Field\n",
        "from langchain_core.prompts import PromptTemplate\n",
        "from langchain.output_parsers import PydanticOutputParser\n",
        "from langchain_core.prompts import ChatPromptTemplate, MessagesPlaceholder\n",
        "from langchain_openai import ChatOpenAI\n",
        "from pydantic import BaseModel\n",
        "from typing import Literal"
      ],
      "metadata": {
        "id": "4YTwVjBPy3s9",
        "colab": {
          "base_uri": "https://localhost:8080/"
        },
        "outputId": "b37879df-ed26-455f-c6d3-ea2655f1034a",
        "collapsed": true
      },
      "execution_count": null,
      "outputs": [
        {
          "output_type": "stream",
          "name": "stderr",
          "text": [
            "/usr/local/lib/python3.10/dist-packages/IPython/core/interactiveshell.py:3553: LangChainDeprecationWarning: As of langchain-core 0.3.0, LangChain uses pydantic v2 internally. The langchain_core.pydantic_v1 module was a compatibility shim for pydantic v1, and should no longer be used. Please update the code to import from Pydantic directly.\n",
            "\n",
            "For example, replace imports like: `from langchain_core.pydantic_v1 import BaseModel`\n",
            "with: `from pydantic import BaseModel`\n",
            "or the v1 compatibility namespace if you are working in a code base that has not been fully upgraded to pydantic 2 yet. \tfrom pydantic.v1 import BaseModel\n",
            "\n",
            "  exec(code_obj, self.user_global_ns, self.user_ns)\n"
          ]
        }
      ]
    },
    {
      "cell_type": "markdown",
      "source": [
        "### Extract text data and extract images into a folder\n",
        "\n",
        "1. Loop through the pages, extract the textual data.\n",
        "2. Extract the images in the PDF and save them with the extention in the specified page\n"
      ],
      "metadata": {
        "id": "XWKouOhadrfL"
      }
    },
    {
      "cell_type": "code",
      "source": [
        "def save_images(filePath):\n",
        "  text_data = []\n",
        "  img_data = []\n",
        "  with fitz.open(filePath) as pdf_file:\n",
        "    # Create a directory to store the images\n",
        "    if not os.path.exists(\"extracted_images\"):\n",
        "        os.makedirs(\"extracted_images\")\n",
        "\n",
        "    # Loop through every page in the PDF\n",
        "    for page_number in range(len(pdf_file)):\n",
        "        page = pdf_file[page_number]\n",
        "\n",
        "        # Get the text on page\n",
        "        text = page.get_text().strip()\n",
        "        text_data.append({\"response\": text, \"name\": page_number+1})\n",
        "        # Get the list of images on the page\n",
        "        images = page.get_images(full=True)\n",
        "\n",
        "        # Loop through all images found on the page\n",
        "        for image_index, img in enumerate(images, start=0):\n",
        "            xref = img[0]  # Get the XREF of the image\n",
        "            base_image = pdf_file.extract_image(xref)  # Extract the image\n",
        "            image_bytes = base_image[\"image\"]  # Get the image bytes\n",
        "            image_ext = base_image[\"ext\"]  # Get the image extension\n",
        "\n",
        "            # Load the image using PIL and save it\n",
        "            image = Image.open(io.BytesIO(image_bytes))\n",
        "            image.save(f\"extracted_images/image_{page_number+1}_{image_index+1}.{image_ext}\")\n",
        "  return text_data, img_data"
      ],
      "metadata": {
        "id": "5SdRDwnZiUq1"
      },
      "execution_count": null,
      "outputs": []
    },
    {
      "cell_type": "code",
      "source": [
        "text_data, img_data=save_images(\"/content/drive/MyDrive/ColabNotebooks/colab_data/ResearchPubAI/testData/S7.pdf\")"
      ],
      "metadata": {
        "id": "1VOR5NXijHWk"
      },
      "execution_count": null,
      "outputs": []
    },
    {
      "cell_type": "markdown",
      "source": [
        "Contents of each page stored in response and name as page number"
      ],
      "metadata": {
        "id": "utRjuO6XemP2"
      }
    },
    {
      "cell_type": "code",
      "source": [
        "text_data"
      ],
      "metadata": {
        "colab": {
          "base_uri": "https://localhost:8080/"
        },
        "id": "YWX6m6x-pTqV",
        "outputId": "fa1f1b50-4a84-4a4b-8071-0cb4eae1dd65"
      },
      "execution_count": null,
      "outputs": [
        {
          "output_type": "execute_result",
          "data": {
            "text/plain": [
              "[{'response': 'Nanophotonics – poised to revolutionize displays and \\nimaging!\\n1\\nSource: DARPA SWEEPER program 2015\\nLiDAR\\n3D displays\\nVirtual reality\\nArtificial vision\\nOptical computing',\n",
              "  'name': 1},\n",
              " {'response': 'Quantum materials exhibit fast and large tunability!\\n2\\nA new class of tunable optical materials: Quantum materials! \\nEither small or slow tuning speed limit the application\\n• Mechanical and thermal tuning can be slow\\n• Small tunability due to a single mechanism involved in light-matter interaction\\nh\\nυ\\nfs\\n~\\np\\ns\\nele\\nctr\\non\\nConventional Materials: \\nSingle particle response\\nhυ\\nns~ms\\nQuantum Materials:\\nCollective response\\nP. Gopalan, B. Sensale-Rodriguez, Adv. Opt. Mater. 2019.      K. Hallman, et al., Adv. Opt. Mater. (2020).',\n",
              "  'name': 2},\n",
              " {'response': '1T-TaS2 exhibits charge density waves at room \\ntemperature\\n3\\nJournal of Electron Spectroscopy and Related Phenomena, \\nStrongly correlated systems, 117–118 (2001): 433–49. \\n \\nCharge density waves (CDW) \\nresult in a large change in \\nelectrical resistance with \\ntemperature.',\n",
              "  'name': 3},\n",
              " {'response': 'Physical properties of 1T-TaS2 are sensitive to stimuli\\nJournal of Electron Spectroscopy and Related Phenomena, \\nStrongly correlated systems, 117–118 (2001): 433–49. \\nPressure tuning phase\\nThickness tuning phase\\nBias tuning phase\\nYu, Y., Yang, F., Lu, X. et al. Nature \\nNanotech 10, 270–276 (2015).\\nYoshida, Masaro, et al.  Science advances 1.9 (2015): e1500606.\\nOptical properties might also exhibit such sensitivity, but yet to be explored.',\n",
              "  'name': 4},\n",
              " {'response': 'Low intensity light tunes out-of-plane \\npermittivity  of 1T-TaS2 by unity order!\\n \\n \\nNormal incidence\\nOblique incidence\\nLi, and Naik, Nano Lett. (2020)\\nOblique incidence reflectance is \\nsensitive to illumination intensity.\\nC-axis permittivity changes with \\nillumination intensity.',\n",
              "  'name': 5},\n",
              " {'response': 'Photorefractive effect of 1T-TaS2 in z-axis is fast!\\n32\\n82\\n207\\n520\\nPower (W/cm²)\\n0\\n0.5\\n3\\n3.5\\n4\\n≈\\n \\n \\n≈\\nτ (μs)\\n \\n \\n \\nΔR \\n(a.u.)\\nElectronic reconfiguration results in the \\nsub-microsecond relaxation time constant\\nLi, and Naik, Nano Lett. (2020)',\n",
              "  'name': 6},\n",
              " {'response': 'Possible mechanisms of optical tunability in 1T-TaS2\\n \\nLi, and Naik, Nano Lett. (2020)',\n",
              "  'name': 7},\n",
              " {'response': 'CDW stacking changes electronic properties dramatically!\\nNature communications 11, no. 1 (2020): 1-7.\\nPhysical Review B 98, no. 19 (2018): 195134.\\nΓ – A: out-of-plane direction\\nPhys. Rev. Lett. 122, 106404 (2019).  \\nDifferent charge domain stacking leads to very different electronic (and optical) properties.',\n",
              "  'name': 8},\n",
              " {'response': 'Light reorganizes stacking of CDW domains \\nacross layers\\nLi, and Naik, Appl. Phys. Lett. 2021\\nHypothesis: Light reorganizes the CDW stacking order and thus changes the refractive index of 1T-TaS2. Illumination \\ncauses the center-to-corner stacking domains to shrink and the center-to-center stacking domains to grow.',\n",
              "  'name': 9},\n",
              " {'response': '3-level model & Maxwell-Garnet equation \\ndescribe 1T-TaS2 optical properties\\nMaxwell-Garnet \\nequation\\nLi, and Naik, Nano Lett. (2020)\\n \\n \\n \\n \\n \\n \\n \\n \\n \\n \\nThe 3-level model predicts the fraction of \\nCDW domains in the two stacking orders.\\nMaxwell-Garnett’s effective medium \\ntheory predicts the optical constants for a \\ngiven stacking domain composition.\\nWith no free-fitting parameter, our model \\nmatches the experimental results well.\\nThis proves our hypothesis.',\n",
              "  'name': 10},\n",
              " {'response': '1T-TaS2 exhibit light tunable optical properties at room T\\n \\nwhite light',\n",
              "  'name': 11}]"
            ]
          },
          "metadata": {},
          "execution_count": 11
        }
      ]
    },
    {
      "cell_type": "markdown",
      "source": [
        "#### Image data yet to be processed"
      ],
      "metadata": {
        "id": "i4HGpbRNesV3"
      }
    },
    {
      "cell_type": "code",
      "source": [
        "img_data"
      ],
      "metadata": {
        "colab": {
          "base_uri": "https://localhost:8080/"
        },
        "id": "i64xuQmRpWZc",
        "outputId": "a806c548-407a-45d0-ebb2-b4df2fbff7ee"
      },
      "execution_count": null,
      "outputs": [
        {
          "output_type": "execute_result",
          "data": {
            "text/plain": [
              "[]"
            ]
          },
          "metadata": {},
          "execution_count": 7
        }
      ]
    },
    {
      "cell_type": "markdown",
      "source": [
        "### Analysed how unstructured works."
      ],
      "metadata": {
        "id": "lUSAHK2ye5aP"
      }
    },
    {
      "cell_type": "code",
      "source": [
        "from langchain_community.document_loaders.image import UnstructuredImageLoader\n",
        "#/content/drive/MyDrive/Colab Notebooks/colab_data/extracted_images/image_7_3.jpeg\n",
        "# loads the text in the images\n",
        "loader = UnstructuredImageLoader(\"/content/drive/MyDrive/ColabNotebooks/colab_data/extracted_images/image_7_3.jpeg\")\n",
        "data = loader.load()\n",
        "data[0]"
      ],
      "metadata": {
        "id": "EknXAGzHEZ1H",
        "colab": {
          "base_uri": "https://localhost:8080/",
          "height": 85,
          "referenced_widgets": [
            "963d26b4661447a4ba7ceb506718cf51",
            "388b6b6fbc644c49b62168a4317786f5",
            "914c914c4687483994256fe560e9b926",
            "e632763771da447986ca28a04427b9be",
            "c0342f6ba4ff4a86a5eba4d1ed2b956d",
            "6d9a9dd021994450b0e71246abc1b5bc",
            "c1dc415b3a1e4eada7bc0a048287bdca",
            "358315675f7e455c8e23a1be519e1995",
            "faa357bec6624b1eaf678872fd1e482d",
            "6c7e8d0c7b9c40d39a8188ba72ab733d",
            "103e175d8ded463393a7533b89c8d686"
          ]
        },
        "outputId": "d194c6b4-b2fe-4e97-956a-2960758e602d"
      },
      "execution_count": null,
      "outputs": [
        {
          "output_type": "display_data",
          "data": {
            "text/plain": [
              "yolox_l0.05.onnx:   0%|          | 0.00/217M [00:00<?, ?B/s]"
            ],
            "application/vnd.jupyter.widget-view+json": {
              "version_major": 2,
              "version_minor": 0,
              "model_id": "963d26b4661447a4ba7ceb506718cf51"
            }
          },
          "metadata": {}
        },
        {
          "output_type": "execute_result",
          "data": {
            "text/plain": [
              "Document(metadata={'source': '/content/drive/MyDrive/ColabNotebooks/colab_data/extracted_images/image_7_3.jpeg'}, page_content='(a)\\n\\n—_Interlayer\\n\\nPhoto energy\\n\\na\\n\\n{TTaSs y\\n\\nthin film\\n\\n(b) Substrate\\n\\nwhite light\\n\\nroom T')"
            ]
          },
          "metadata": {},
          "execution_count": 8
        }
      ]
    },
    {
      "cell_type": "markdown",
      "source": [
        "## Relevant images are filtered\n",
        "\n",
        "Step 1: Create a data model, A binary score is used to access the relevance of image with respect to contents of the paper.\n",
        "\n",
        "Step 2: For each image check the relevance and remove unnecessary images that is not relevant to the context of the paper. For example logos, names and other trivial data. Done using gpt-40 model as it gives great results for image analysis.\n",
        "\n",
        "Step 3: Collect all the relevance metrics and keep those images for further processing.  "
      ],
      "metadata": {
        "id": "3jh90ztUfEuj"
      }
    },
    {
      "cell_type": "code",
      "source": [
        "# Data model\n",
        "class AnalyseRelevance(BaseModel):\n",
        "    \"\"\"Binary score to assess the relevance of image with respect to the contents of the paper.\"\"\"\n",
        "\n",
        "    binary_score: str = Field(\n",
        "        description=\"Answer addresses the question, 'yes' or 'no'\"\n",
        "    )\n",
        "relevant_images=[]\n",
        "\n",
        "def checkRelevance():\n",
        "  for img in os.listdir(\"/content/drive/MyDrive/ColabNotebooks/colab_data/extracted_images/\"):\n",
        "    print(img)\n",
        "    im = \"extracted_images/{img}\"\n",
        "    with open(os.path.join(\"/content/drive/MyDrive/ColabNotebooks/colab_data/extracted_images\", img), \"rb\") as image_file:\n",
        "      image_bytes = image_file.read()\n",
        "\n",
        "    image_data = base64.b64encode(image_bytes).decode(\"utf-8\") # encoding image bytes to base64\n",
        "    prompt=\"You are an assistant tasked to analyse images and indicate whether the image is relevant or not with the contents of the slide.\\\n",
        "            Images that contain logos, University names are considered as trivial to the slide paper data. Henceforth it is classified as 'no'. \\\n",
        "            An image that does not contain anything is classified as a 'no' \\\n",
        "            Everything else is classified as an 'yes'\\\n",
        "            Give a binary score 'yes' or 'no'. Yes' means that the image is important to the data in the slide.\"\n",
        "    message = HumanMessage(\n",
        "    content=[\n",
        "        {\"type\": \"text\", \"text\": prompt},\n",
        "        {\n",
        "            \"type\": \"image_url\",\n",
        "            \"image_url\": {\"url\": f\"data:image/jpeg;base64,{image_data}\"},\n",
        "        },\n",
        "      ]\n",
        "    )\n",
        "    llm = ChatOpenAI(model=\"gpt-4o\")\n",
        "    structured_llm_grader = llm.with_structured_output(AnalyseRelevance)\n",
        "\n",
        "    ai_msg = structured_llm_grader.invoke([message])\n",
        "    print(ai_msg.binary_score)\n",
        "    if ai_msg.binary_score == \"yes\":\n",
        "      relevant_images.append(img)\n",
        "      print(img)\n",
        "      print(\"Is relevant!\")\n",
        "  return relevant_images"
      ],
      "metadata": {
        "id": "1s_6Ob0DjIqx"
      },
      "execution_count": null,
      "outputs": []
    },
    {
      "cell_type": "markdown",
      "source": [
        "Analyse and describe each image in the form of a paragraph using gpt-4o"
      ],
      "metadata": {
        "id": "K-58n1VLgB5d"
      }
    },
    {
      "cell_type": "code",
      "source": [
        "def generate_image_details():\n",
        "  for img in os.listdir(\"/content/drive/MyDrive/ColabNotebooks/colab_data/extracted_images/\"):\n",
        "    if img in relevant_images:\n",
        "      print(img)\n",
        "      im = \"extracted_images/{img}\"\n",
        "      with open(os.path.join(\"/content/drive/MyDrive/ColabNotebooks/colab_data/extracted_images\", img), \"rb\") as image_file:\n",
        "        image_bytes = image_file.read()\n",
        "\n",
        "      image_data = base64.b64encode(image_bytes).decode(\"utf-8\") # encoding image bytes to base64\n",
        "      prompt=\"You are an assistant tasked to analyse images. Present a paragraph describing the image.\"\n",
        "      message = HumanMessage(\n",
        "      content=[\n",
        "          {\"type\": \"text\", \"text\": prompt},\n",
        "          {\n",
        "              \"type\": \"image_url\",\n",
        "              \"image_url\": {\"url\": f\"data:image/jpeg;base64,{image_data}\"},\n",
        "          },\n",
        "        ]\n",
        "      )\n",
        "      llm = ChatOpenAI(model=\"gpt-4o\")\n",
        "      ai_msg = llm.invoke([message])\n",
        "      print(ai_msg.content)\n",
        "      img_data.append({\"response\":ai_msg.content, \"name\": img})\n",
        "  return img_data"
      ],
      "metadata": {
        "id": "t0Jpry0WoWX8"
      },
      "execution_count": null,
      "outputs": []
    },
    {
      "cell_type": "code",
      "source": [
        "checkRelevance()"
      ],
      "metadata": {
        "colab": {
          "base_uri": "https://localhost:8080/"
        },
        "id": "xONtQDUKrJg7",
        "outputId": "9f5cce10-d6ca-419d-8eda-e3ab623fac73",
        "collapsed": true
      },
      "execution_count": null,
      "outputs": [
        {
          "output_type": "stream",
          "name": "stdout",
          "text": [
            "image_4_1.jpeg\n",
            "no\n",
            "image_1_1.jpeg\n",
            "no\n",
            "image_1_2.jpeg\n",
            "yes\n",
            "image_1_2.jpeg\n",
            "Is relevant!\n",
            "image_3_3.jpeg\n",
            "no\n",
            "image_1_6.jpeg\n",
            "yes\n",
            "image_1_6.jpeg\n",
            "Is relevant!\n",
            "image_1_5.jpeg\n",
            "yes\n",
            "image_1_5.jpeg\n",
            "Is relevant!\n",
            "image_3_4.jpeg\n",
            "yes\n",
            "image_3_4.jpeg\n",
            "Is relevant!\n",
            "image_2_3.jpeg\n",
            "yes\n",
            "image_2_3.jpeg\n",
            "Is relevant!\n",
            "image_3_1.jpeg\n",
            "no\n",
            "image_1_4.jpeg\n",
            "yes\n",
            "image_1_4.jpeg\n",
            "Is relevant!\n",
            "image_2_1.jpeg\n",
            "no\n",
            "image_2_2.jpeg\n",
            "yes\n",
            "image_2_2.jpeg\n",
            "Is relevant!\n",
            "image_1_3.jpeg\n",
            "yes\n",
            "image_1_3.jpeg\n",
            "Is relevant!\n",
            "image_4_3.jpeg\n",
            "yes\n",
            "image_4_3.jpeg\n",
            "Is relevant!\n",
            "image_3_2.jpeg\n",
            "yes\n",
            "image_3_2.jpeg\n",
            "Is relevant!\n",
            "image_4_4.jpeg\n",
            "yes\n",
            "image_4_4.jpeg\n",
            "Is relevant!\n",
            "image_4_2.jpeg\n",
            "yes\n",
            "image_4_2.jpeg\n",
            "Is relevant!\n",
            "image_5_4.jpeg\n",
            "yes\n",
            "image_5_4.jpeg\n",
            "Is relevant!\n",
            "image_10_4.jpeg\n",
            "yes\n",
            "image_10_4.jpeg\n",
            "Is relevant!\n",
            "image_7_3.jpeg\n",
            "yes\n",
            "image_7_3.jpeg\n",
            "Is relevant!\n",
            "image_9_2.jpeg\n",
            "yes\n",
            "image_9_2.jpeg\n",
            "Is relevant!\n",
            "image_5_5.jpeg\n",
            "yes\n",
            "image_5_5.jpeg\n",
            "Is relevant!\n",
            "image_5_6.jpeg\n",
            "no\n",
            "image_7_1.jpeg\n",
            "no\n",
            "image_6_7.jpeg\n",
            "yes\n",
            "image_6_7.jpeg\n",
            "Is relevant!\n",
            "image_8_2.jpeg\n",
            "yes\n",
            "image_8_2.jpeg\n",
            "Is relevant!\n",
            "image_10_13.jpeg\n",
            "yes\n",
            "image_10_13.jpeg\n",
            "Is relevant!\n",
            "image_9_1.jpeg\n",
            "no\n",
            "image_10_6.jpeg\n",
            "no\n",
            "image_10_2.jpeg\n",
            "yes\n",
            "image_10_2.jpeg\n",
            "Is relevant!\n",
            "image_6_4.jpeg\n",
            "yes\n",
            "image_6_4.jpeg\n",
            "Is relevant!\n",
            "image_8_1.jpeg\n",
            "no\n",
            "image_5_7.jpeg\n",
            "no\n",
            "image_10_3.jpeg\n",
            "yes\n",
            "image_10_3.jpeg\n",
            "Is relevant!\n",
            "image_10_11.jpeg\n",
            "no\n",
            "image_9_3.jpeg\n",
            "yes\n",
            "image_9_3.jpeg\n",
            "Is relevant!\n",
            "image_10_7.jpeg\n",
            "no\n",
            "image_10_12.jpeg\n",
            "yes\n",
            "image_10_12.jpeg\n",
            "Is relevant!\n",
            "image_5_1.jpeg\n",
            "no\n",
            "image_11_1.jpeg\n",
            "no\n",
            "image_6_1.jpeg\n",
            "no\n",
            "image_10_8.jpeg\n",
            "no\n",
            "image_6_2.jpeg\n",
            "yes\n",
            "image_6_2.jpeg\n",
            "Is relevant!\n",
            "image_6_3.jpeg\n",
            "yes\n",
            "image_6_3.jpeg\n",
            "Is relevant!\n",
            "image_10_9.jpeg\n",
            "no\n",
            "image_6_8.jpeg\n",
            "no\n",
            "image_10_14.jpeg\n",
            "yes\n",
            "image_10_14.jpeg\n",
            "Is relevant!\n",
            "image_6_6.jpeg\n",
            "no\n",
            "image_10_1.jpeg\n",
            "no\n",
            "image_5_8.jpeg\n",
            "yes\n",
            "image_5_8.jpeg\n",
            "Is relevant!\n",
            "image_11_3.jpeg\n",
            "no\n",
            "image_8_3.jpeg\n",
            "yes\n",
            "image_8_3.jpeg\n",
            "Is relevant!\n",
            "image_5_2.jpeg\n",
            "yes\n",
            "image_5_2.jpeg\n",
            "Is relevant!\n",
            "image_6_5.jpeg\n",
            "yes\n",
            "image_6_5.jpeg\n",
            "Is relevant!\n",
            "image_7_2.jpeg\n",
            "no\n",
            "image_11_2.jpeg\n",
            "yes\n",
            "image_11_2.jpeg\n",
            "Is relevant!\n",
            "image_5_3.jpeg\n",
            "yes\n",
            "image_5_3.jpeg\n",
            "Is relevant!\n",
            "image_10_5.jpeg\n",
            "no\n",
            "image_10_10.jpeg\n",
            "no\n"
          ]
        },
        {
          "output_type": "execute_result",
          "data": {
            "text/plain": [
              "['image_1_2.jpeg',\n",
              " 'image_1_6.jpeg',\n",
              " 'image_1_5.jpeg',\n",
              " 'image_3_4.jpeg',\n",
              " 'image_2_3.jpeg',\n",
              " 'image_1_4.jpeg',\n",
              " 'image_2_2.jpeg',\n",
              " 'image_1_3.jpeg',\n",
              " 'image_4_3.jpeg',\n",
              " 'image_3_2.jpeg',\n",
              " 'image_4_4.jpeg',\n",
              " 'image_4_2.jpeg',\n",
              " 'image_5_4.jpeg',\n",
              " 'image_10_4.jpeg',\n",
              " 'image_7_3.jpeg',\n",
              " 'image_9_2.jpeg',\n",
              " 'image_5_5.jpeg',\n",
              " 'image_6_7.jpeg',\n",
              " 'image_8_2.jpeg',\n",
              " 'image_10_13.jpeg',\n",
              " 'image_10_2.jpeg',\n",
              " 'image_6_4.jpeg',\n",
              " 'image_10_3.jpeg',\n",
              " 'image_9_3.jpeg',\n",
              " 'image_10_12.jpeg',\n",
              " 'image_6_2.jpeg',\n",
              " 'image_6_3.jpeg',\n",
              " 'image_10_14.jpeg',\n",
              " 'image_5_8.jpeg',\n",
              " 'image_8_3.jpeg',\n",
              " 'image_5_2.jpeg',\n",
              " 'image_6_5.jpeg',\n",
              " 'image_11_2.jpeg',\n",
              " 'image_5_3.jpeg']"
            ]
          },
          "metadata": {},
          "execution_count": 27
        }
      ]
    },
    {
      "cell_type": "code",
      "source": [
        "len(relevant_images)\n",
        "sorted(relevant_images)"
      ],
      "metadata": {
        "colab": {
          "base_uri": "https://localhost:8080/"
        },
        "id": "ahO1V4b4rYu_",
        "outputId": "0877aa0e-59cf-46e4-ddce-0063c7e8f48d",
        "collapsed": true
      },
      "execution_count": null,
      "outputs": [
        {
          "output_type": "execute_result",
          "data": {
            "text/plain": [
              "['image_10_12.jpeg',\n",
              " 'image_10_13.jpeg',\n",
              " 'image_10_14.jpeg',\n",
              " 'image_10_2.jpeg',\n",
              " 'image_10_3.jpeg',\n",
              " 'image_10_4.jpeg',\n",
              " 'image_11_2.jpeg',\n",
              " 'image_1_2.jpeg',\n",
              " 'image_1_3.jpeg',\n",
              " 'image_1_4.jpeg',\n",
              " 'image_1_5.jpeg',\n",
              " 'image_1_6.jpeg',\n",
              " 'image_2_2.jpeg',\n",
              " 'image_2_3.jpeg',\n",
              " 'image_3_2.jpeg',\n",
              " 'image_3_4.jpeg',\n",
              " 'image_4_2.jpeg',\n",
              " 'image_4_3.jpeg',\n",
              " 'image_4_4.jpeg',\n",
              " 'image_5_2.jpeg',\n",
              " 'image_5_3.jpeg',\n",
              " 'image_5_4.jpeg',\n",
              " 'image_5_5.jpeg',\n",
              " 'image_5_8.jpeg',\n",
              " 'image_6_2.jpeg',\n",
              " 'image_6_3.jpeg',\n",
              " 'image_6_4.jpeg',\n",
              " 'image_6_5.jpeg',\n",
              " 'image_6_7.jpeg',\n",
              " 'image_7_3.jpeg',\n",
              " 'image_8_2.jpeg',\n",
              " 'image_8_3.jpeg',\n",
              " 'image_9_2.jpeg',\n",
              " 'image_9_3.jpeg']"
            ]
          },
          "metadata": {},
          "execution_count": 30
        }
      ]
    },
    {
      "cell_type": "markdown",
      "source": [
        "Using the relevant image list, Call the image analysis function and storing the responses in JSON format."
      ],
      "metadata": {
        "id": "eWwwolrlgQ0g"
      }
    },
    {
      "cell_type": "code",
      "source": [
        "img_data=generate_image_details()\n",
        "img_data"
      ],
      "metadata": {
        "colab": {
          "base_uri": "https://localhost:8080/"
        },
        "id": "IWJ2pMbhqAU0",
        "outputId": "b7852cf7-a3b2-4ffe-910f-0b9b49ad4d29"
      },
      "execution_count": null,
      "outputs": [
        {
          "output_type": "stream",
          "name": "stdout",
          "text": [
            "image_1_2.jpeg\n",
            "The image is an artist's concept depicting advanced military technology with a focus on sensor integration. A soldier is equipped with wearable micro-sensors, allowing for real-time data access. Nearby, a military vehicle is shown with multiple small, low-power sensors attached, providing comprehensive environmental awareness. In the foreground, a compact unmanned aerial vehicle (UAV) features long-range sensors, contributing to the situational data available to the personnel. The scene is overlaid with colored lines representing sensor data fields, illustrating the seamless flow of information between different technological components.\n",
            "image_1_6.jpeg\n",
            "The image depicts a close-up view of a small electronic component being held by tweezers near a circuit board. The circuit board features various pathways, solder points, and components, indicating a detailed design typical of modern electronics. The electronic component in the tweezers appears to be delicate and possibly integral to the function of the circuit board. The background is blurred, focusing attention on the precision and intricacy of the task being performed, suggesting a setting related to electronics assembly or repair.\n",
            "image_1_5.jpeg\n",
            "The image features a playful and creative depiction of a dolphin emerging from a smartphone screen. The smartphone, with a thin bezel and gold-colored edges, displays an image of a vibrant blue ocean. The dolphin appears to be leaping out from the water, giving the illusion of a three-dimensional effect. This imaginative composition combines elements of technology and nature, suggesting themes of connectivity and immersion in digital experiences. The overall scene is lively and visually engaging, highlighting the seamless integration of digital imagery with real-world elements.\n",
            "image_3_4.jpeg\n",
            "The image presents a graph showing the relationship between resistivity (ρ) in ohm-centimeters and temperature (T) in Kelvin for a material. The graph displays a red curve with significant drops at specific temperatures, marked as \\( T_{\\text{CCDW & Mott}} \\), \\( T_{\\text{NCCDW}} \\), and \\( \\overline{T}_{\\text{ICCDW}} \\). These represent transitions in the material's phases. Inset to the right is a molecular diagram with yellow and red spheres labeled as S (Sulfur) and Ta (Tantalum), indicating the material's atomic structure. Another smaller inset shows a lattice structure. The annotations and visual elements suggest a study of charge density wave (CDW) transitions in a tantalum sulfide compound.\n",
            "image_2_3.jpeg\n",
            "The image illustrates a model of strongly electron correlated materials. It features a collection of blue circles representing electrons, enclosed within a larger circle. Red arrows between the electrons indicate Coulomb interactions, which are the forces between charged particles. The image highlights that these interactions prevent the electrons from moving freely, as noted by the text \"Electrons cannot move.\" This depiction emphasizes the concept of electron correlation in such materials, where electron movement is restricted due to strong interactions.\n",
            "image_1_4.jpeg\n",
            "The image depicts a close-up view of a camera lens. The lens features several concentric rings, with the outer ring appearing larger and the inner rings progressively smaller, culminating in the glass element at the center. Reflections and light flares can be seen on the lens surface, adding a dynamic and colorful touch with hints of blue, green, and yellow. The intricate details of the lens, such as the screws and the curvature of the glass, are clearly visible, highlighting the precision and complexity of the optical instrument.\n",
            "image_2_2.jpeg\n",
            "The image is a diagram illustrating the movement of electrons within a metal or semiconductor. It features a circular boundary with several blue spheres inside, representing electrons. These spheres have arrows pointing in various directions, indicating the free movement of electrons throughout the material. The label \"electron\" is associated with one of the spheres, and the text \"Electrons move free\" is positioned at the top of the image, emphasizing the concept of electron mobility. At the bottom, the words \"metal, semiconductor\" indicate the types of materials being depicted.\n",
            "image_1_3.jpeg\n",
            "The image depicts a futuristic representation of technology and virtual reality. A human figure is shown wearing a virtual reality headset, with digital elements and binary code interwoven throughout the silhouette. The imagery suggests a blend of human and digital worlds, with glowing lines and abstract symbols signifying data and connectivity. The background features geometric shapes and network-like structures, enhancing the theme of advanced technology and immersive virtual experiences. The overall color scheme includes deep blues and vibrant oranges, creating a striking contrast that highlights the technological motif.\n",
            "image_4_3.jpeg\n",
            "The image consists of four graphs, labeled A through D, depicting electrical resistivity and temperature relationships in materials with varying thickness and cooling rates. Graph A shows resistivity (\\(\\rho\\)) versus temperature (T) for a thickness of 51 nm, with two different cooling rates (1 K/min and 5 K/min). Graph B presents similar data for a thickness of 15 nm, with cooling rates of 0.3 K/min, 1 K/min, and 3 K/min, and includes a zoomed-in inset. Graph C illustrates a phase diagram with temperature versus cooling rate for different thicknesses, highlighting regions labeled \"sc-NC-CDW\" and \"CCDW\". Graph D plots the critical cooling rate (\\(R_c\\)) against thickness, showing transitions between the two phases. The graphs help visualize phase transitions and resistivity variations with temperature, thickness, and cooling rates.\n",
            "image_3_2.jpeg\n",
            "The image contains a scientific diagram illustrating charge density wave (CDW) phases in a tantalum disulfide (TaS₂) material. Panel A shows the atomic structure of TaS₂, with tantalum (Ta) and sulfur (S) atoms depicted. An inset highlights the star-like pattern of the CDW at low temperatures. Panel B displays the evolution of the CDW phases with temperature, transitioning from commensurate (CCDW) to nearly commensurate (NCCDW) and incommensurate (ICCDW) phases. Panel C presents a graph of resistivity (ρ) versus temperature (T) for varying thicknesses, indicating different CDW transitions. Panel D maps the phase diagram, showing the temperature and thickness dependence of the CDW phases, illustrating the transitions as thickness changes.\n",
            "image_4_4.jpeg\n",
            "The image consists of three panels, labeled a, b, and c, depicting phase diagrams with temperature (T) in Kelvin on the vertical axis and gate voltage (Vg) in volts on the horizontal axis. Each panel represents a different thickness (t) of a material: 14 nm for panel a, 8 nm for panel b, and 3.5 nm for panel c. The diagrams illustrate regions labeled as NCCDW (light blue), ICCDW (light green), CCDW (purple), and SC (orange). In panel a, the CCDW and SC regions are prominent at lower temperatures, while the NCCDW occupies most of the upper area. Panel b shows a similar pattern with the SC region marked by black circles, while panel c highlights a transition from NCCDW to ICCDW, with an insulating region emerging at higher voltages. Red triangles indicate experimental data points.\n",
            "image_4_2.jpeg\n",
            "The image presents a phase diagram and related structural patterns. The central graph plots temperature (T) in Kelvin against pressure (P) in GPa. Different phases are indicated: \"CCDW & Mott state\" in the red and green areas at lower pressures, transitioning to \"NCCDW\" in blue, \"Metal\" in light blue, and \"Superconductivity\" in orange at higher pressures. The line labeled \\(T_{sc} \\times 10\\) suggests a temperature scaling for superconductivity. Surrounding the graph are four diagrams showing lattice structures, likely representing different atomic arrangements corresponding to the phases in the graph. These structures have hexagonal patterns, with variations in shading and connectivity. The image conveys the relationship between pressure and temperature in determining the material's electronic phases.\n",
            "image_5_4.jpeg\n",
            "The image is a graph displaying the relationship between wavelength (in nanometers) and an unspecified variable, likely related to intensity or absorption, across different power densities. The x-axis represents wavelength, ranging from 400 to 800 nm, and the y-axis appears to measure an arbitrary unit between 0.6 and 1.2. There are five curves depicted, each corresponding to a different power density: 10, 50, 100, 500, and 1000 mW/cm². The curves show an upward trend, indicating that the value on the y-axis increases with wavelength for each power density. The curves are color-coded in varying shades of red, with higher power densities represented by brighter shades.\n",
            "image_10_4.jpeg\n",
            "The image contains four panels illustrating a study on optical properties. Panel (a) is a diagram showing energy level transitions, with labeled arrows indicating processes such as absorption (hν), radiative decay (R), and relaxation times (τ). Panel (b) is a graph plotting \\( n_{11} \\) (%) against intensity (mW/cm²), showing a nonlinear increase with intensity, represented by a green dashed curve through red data points. Panels (c) and (d) display graphs of optical parameters \\( \\epsilon_e' \\) and \\( \\epsilon_e'' \\) versus wavelength (nm) across different intensities (10, 50, 100, 500, 1000 mW/cm²). Both graphs show trends with multiple lines, indicating changes in optical responses with varying intensity, with wavelengths ranging from 400 to 800 nm.\n",
            "image_7_3.jpeg\n",
            "The image consists of three parts illustrating the thermal and optical properties of a 1T-TaS₂ thin film. Part (a) shows a diagram of the thin film and substrate setup, where photo energy is absorbed by the 1T-TaS₂ film, leading to a uniform temperature change. The energy transfers through the interlayer to the substrate, depicted by blue arrows. Part (b) illustrates a top view of the setup, showing white light incident on the film, with concentric circles indicating the spread of heat or light intensity. Part (c) displays a graph of temperature change (ΔT) versus depth (z) for different power densities (1 W/cm², 0.5 W/cm², 0.25 W/cm²), showing how the temperature decreases from the film to the substrate. An inset focuses on the temperature change in the 1T-TaS₂ film, emphasizing its thermal response at different power levels.\n",
            "image_9_2.jpeg\n",
            "The image features two complex geometric patterns composed of interlocking shapes in blue and orange. The pattern on the left is labeled \"light on,\" and the one on the right is labeled \"light off.\" Arrows point between the two patterns, indicating a transformation process. The design consists of repeating star-like and polygonal shapes that shift in orientation and color distribution between the two states. The patterns suggest a dynamic interplay of symmetry and structure, which changes with the presence or absence of light.\n",
            "image_5_5.jpeg\n",
            "The image consists of several panels depicting the structural and electronic properties of a material undergoing different charge density wave (CDW) phases. Panel A shows a schematic of the atomic arrangement, highlighting tantalum (Ta) and sulfur (S) atoms, and includes an inset with a zoomed-in lattice structure and a diagram of a device setup for measurement. Panel B illustrates three phases: CCDW (commensurate CDW) at low temperatures, NCCDW (nearly commensurate CDW) at intermediate temperatures, and ICCDW (incommensurate CDW) at high temperatures, represented by different pattern arrangements. Panel C presents a graph plotting resistivity (ρ) against temperature (T) for various film thicknesses, indicating phase transitions between CDW states. Panel D displays a phase diagram correlating thickness with temperature, showing the stability regions of different CDW phases as the material cools at a rate of 1 K/min.\n",
            "image_6_7.jpeg\n",
            "The image is a graph displaying a transition between two states labeled \"Light on\" and \"Light off\" over time, measured in microseconds (µs). The x-axis represents time, ranging from 0 to 100 µs, while the y-axis appears to represent an unspecified variable. The graph shows two curves, one in orange and another in blue, which illustrate the change in the variable as the light transitions from being on to off. Initially, during the \"Light on\" phase, both curves start at a higher value and gradually decrease, indicating a drop in the variable. Around 50 µs, the light switches off, and the curves rise sharply, reaching a plateau in the \"Light off\" phase. The background color of the graph changes from light to dark to visually indicate the transition from \"Light on\" to \"Light off.\"\n",
            "image_8_2.jpeg\n",
            "The image depicts a three-dimensional representation of a layered crystal structure. It shows multiple parallel layers composed of a series of interconnected hexagonal units. The layers are stacked vertically, with each layer connected by dashed lines, suggesting interactions or bonds between them. Each vertex of the hexagons is marked by a blue sphere, possibly indicating atoms or ions, while the planes are shaded in gray, representing the atomic or molecular planes. The arrangement suggests a repetitive, orderly pattern typical of crystalline materials.\n",
            "image_10_13.jpeg\n",
            "The image features a mathematical expression in blue on a black background. The expression consists of the letter \"n\" followed by a vertical line and the number \"0\" enclosed in angled brackets, resembling a notation used in quantum mechanics, specifically a ket notation, which is part of the bra-ket notation system. This is often used to describe quantum states in physics. The overall aesthetic is simple and focused, with the blue text contrasting against the dark background.\n",
            "image_10_2.jpeg\n",
            "The image depicts a graph with a logarithmic scale on both axes. The x-axis represents intensity in milliwatts per square centimeter (mW/cm²), ranging from 1 to 1000, while the y-axis represents an unspecified variable ranging from 0 to 40. The data points are marked with red dots, and a green dashed line connects these points, indicating a trend. The graph shows a positive correlation, with the y-values increasing as the intensity increases, forming a curve that steepens as it progresses to higher intensity values.\n",
            "image_6_4.jpeg\n",
            "The image features text on a black background. The text is displayed in a dark orange color and reads \"off\" and \"th,\" with each part positioned in a way that suggests a possible word or phrase. The letters are stylized, with a slightly italicized and serif font, giving the text a distinctive appearance against the stark contrast of the black background. The simplicity of the design focuses attention on the text itself.\n",
            "image_10_3.jpeg\n",
            "The image contains a schematic diagram and several graphs related to an optical or photonic study. Part (a) illustrates a process involving energy levels, excitation, and relaxation pathways with symbols like \\(\\tau\\) and \\(\\eta\\), possibly representing time constants and efficiencies. Part (b) is a graph showing the relationship between intensity (in mW/cm²) and the percentage of an excited state, \\(n_{|1\\rangle}\\), with a green dashed trend line indicating a nonlinear increase. Parts (c) and (d) display graphs of spectral data, where \\( \\epsilon'_e \\) and \\( \\epsilon''_e \\) are plotted against wavelength (nm) for different intensities, ranging from 10 to 1000 mW/cm². The curves show variations in optical properties with intensity, likely related to absorption or emission characteristics.\n",
            "image_9_3.jpeg\n",
            "The image features a geometric pattern composed of multiple six-pointed stars. The stars are arranged in clusters, with the majority outlined in blue and a significant section outlined in orange. The blue stars form two larger clusters, while the orange stars create a slightly smaller cluster. Each star is filled with a white center, and the entire pattern is set against a background of small, light gray dots, which are also arranged in a grid-like pattern. One small cluster of red stars is positioned on the left side of the image. The arrangement creates a visually engaging and repetitive design.\n",
            "image_10_12.jpeg\n",
            "The image displays a mathematical notation prominently featuring the letter \"n\" followed by a vertical line and a number \"1\" enclosed in angle brackets. The text is presented in an orange color against a black background, giving it a distinct and clear appearance. This style of notation is often associated with quantum mechanics or linear algebra, where it might represent a state vector or a certain mathematical expression. The simplicity of the design allows for easy readability and a focus on the symbolic content.\n",
            "image_6_2.jpeg\n",
            "The image displays a graph illustrating a waveform with a series of oscillations. The waveform is depicted in blue against a black background. It appears to have a repeating pattern, with each cycle showing a sharp increase followed by a gradual decrease, creating a jagged, sawtooth-like appearance. The horizontal axis likely represents time, while the vertical axis indicates amplitude or another variable. The consistent nature of the peaks and troughs suggests a regular periodic signal. Overall, the graph conveys a sense of rhythmic and continuous fluctuation.\n",
            "image_6_3.jpeg\n",
            "The image features the text \"on τ th\" displayed in a bold, orange font against a black background. The letters have a slightly italicized style and are prominently centered within the image. The use of the Greek letter \"τ\" adds a unique element to the composition, creating an intriguing visual contrast with the standard Latin alphabet letters. The overall color scheme and design lend a striking and modern appearance to the text.\n",
            "image_10_14.jpeg\n",
            "The image displays the word \"Nexcited\" in a stylized font. The text is presented in a golden-yellow color against a black background, giving it a striking and bold appearance. The font style is cursive, adding an artistic flair to the overall design. The contrast between the bright text and dark background makes the word stand out prominently.\n",
            "image_5_8.jpeg\n",
            "The image consists of two graphs labeled A and B, each showing reflectance (%) on the y-axis and wavelength (nm) on the x-axis, ranging from 400 to 800 nm. Both graphs display two lines: one in red representing \"High Intensity\" and the other in blue representing \"Low Intensity.\" In graph A, the red line starts at a lower reflectance percentage and rises steadily, while the blue line follows a similar trend but remains lower. Graph B shows a similar pattern, with both lines beginning at around 25% reflectance and peaking just above 45%. Each graph also contains a circular inset with a cross, depicting a yellow dot positioned differently in each inset.\n",
            "image_8_3.jpeg\n",
            "The image consists of two panels (a) and (b), each displaying a band structure diagram alongside a density of states (DOS) graph. The horizontal axes of the band structures are labeled with symmetry points Γ, M, K, and A, relevant to the material's Brillouin zone. The vertical axes represent energy levels in electron volts (eV). In both panels, blue lines indicate the electronic band structure, while the DOS is depicted as a shaded area to the right. Insets in each panel illustrate a layered structural model of a material, suggesting a focus on layered compounds or 2D materials. The overall setup indicates a comparison of electronic properties between two different structural configurations or materials.\n",
            "image_5_2.jpeg\n",
            "The image is a graph plotting data across a range of wavelengths from 400 to 800 nanometers. The graph features two sets of data, represented by two colors: orange and blue. Each color displays two lines, one solid and one dashed. The orange lines are labeled with symbols \\( \\epsilon'_{e} \\) (solid) and \\( \\epsilon''_{e} \\) (dashed), while the blue lines are labeled \\( \\epsilon'_{o} \\) (solid) and \\( \\epsilon''_{o} \\) (dashed). The left vertical axis, associated with the orange lines, ranges from 0 to 0.8, and the right vertical axis, associated with the blue lines, ranges from 0 to 20. Arrows indicate the direction of increasing values for each color: left for orange and right for blue. The graph likely represents the variation of certain properties related to the material's optical characteristics as a function of wavelength.\n",
            "image_6_5.jpeg\n",
            "The image displays text with a dark background. The text is written in a stylized blue font, and it reads \"on Tel.\" The letters are arranged on two lines, with \"on\" positioned above \"Tel.\" The font has a decorative and slightly italicized appearance, adding a dynamic quality to the text against the contrasting black backdrop.\n",
            "image_11_2.jpeg\n",
            "The image depicts a schematic illustration and graphs related to the interaction of incoherent white light with a layered material structure. On the left, there are three distinct layers of star-shaped structures in yellow, red, and blue, each stacked on a black base, representing different material compositions or states. An icon of a light source labeled \"incoherent white light\" is shown illuminating the structures. On the right, there are two graphs showing the electronic response (ε’e and ε’’e) as a function of wavelength (nm) for different power densities (10 to 1000 mW/cm²). The curves in the graphs indicate how the electronic properties change with varying light intensities and wavelengths, suggesting an analysis of material behavior under optical excitation.\n",
            "image_5_3.jpeg\n",
            "The image is a graph depicting the relationship between wavelength and intensity for different power densities. The x-axis represents the wavelength in nanometers (nm), ranging from 400 to 800 nm. The y-axis indicates an unspecified intensity measurement, ranging from 0 to 0.6. The graph contains five curves, each representing a different power density: 10 mW/cm², 50 mW/cm², 100 mW/cm², 500 mW/cm², and 1000 mW/cm². As the power density increases, the curves rise more sharply, especially at higher wavelengths. The curves are color-coded from darker to lighter shades of red as the power density increases.\n"
          ]
        },
        {
          "output_type": "execute_result",
          "data": {
            "text/plain": [
              "[{'response': \"The image is an artist's concept illustrating advanced military technology integration on the battlefield. It depicts a soldier equipped with wearable micro-sensors, including a device on a helmet and what appears to be a smartwatch, suggesting that all sensor data is readily available to the warfighter. Nearby, a military vehicle is fitted with multiple small, low-power sensors. Additionally, a compact unmanned aerial vehicle (UAV) with long-range sensors is shown, indicating its role in surveillance and data collection. The environment is enhanced with colorful, layered lines representing sensor fields and data networks, highlighting the interconnectedness of these technologies in a tactical scenario.\",\n",
              "  'name': 'image_1_2.jpeg'},\n",
              " {'response': 'The image depicts a close-up view of a circuit board and a small electronic component held by tweezers. The circuit board features visible traces, solder points, and what appears to be a connector or socket. The component held by the tweezers is small and intricate, suggesting it is a microelectronic part, possibly a chip or sensor. The background is blurred, emphasizing the focus on the precision work involved in the handling and assembly of electronic parts. The image conveys a sense of high-tech engineering and attention to detail in electronic device manufacturing or repair.',\n",
              "  'name': 'image_1_6.jpeg'},\n",
              " {'response': 'The image is a graph depicting the relationship between resistivity (\\\\(\\\\rho\\\\)) in ohm-centimeters and temperature (T) in Kelvin. The graph shows a red line indicating changes in resistivity with temperature, featuring distinct drops at specific points labeled \\\\(T_{CCDW} & \\\\text{Mott}\\\\), \\\\(T_{NCCDW}\\\\), and \\\\(\\\\overline{T}_{ICCDW}\\\\). These labels likely correspond to phase transitions or critical temperatures in the material. The inset on the left shows a structural representation of a material, and the inset on the right illustrates a layered arrangement of atoms, with yellow and red spheres representing sulfur (S) and tantalum (Ta), respectively. The diagram includes lattice vectors labeled a, b, and c.',\n",
              "  'name': 'image_3_4.jpeg'},\n",
              " {'response': 'The image is a diagram illustrating the concept of strongly electron correlated materials. It features a cluster of blue circles, each labeled as an \"electron,\" enclosed within a larger circle. Red arrows and dotted lines connect some of the blue circles, indicating \"Coulomb interaction between electrons.\" The diagram suggests that the electrons cannot move freely due to these interactions. Text at the top reads \"Electrons cannot move,\" and at the bottom, it states \"Strongly electron correlated materials,\" highlighting the focus on electron interactions within such materials.',\n",
              "  'name': 'image_2_3.jpeg'},\n",
              " {'response': 'The image illustrates the movement of electrons within a metal or semiconductor. It features a circle representing the material, inside which several blue spheres labeled as electrons are shown. The electrons are depicted with arrows indicating their free movement in various directions within the material. This visualization highlights the concept of electron mobility, which is a key characteristic of metals and semiconductors, allowing them to conduct electricity. The caption at the top, \"Electrons move free,\" emphasizes this property.',\n",
              "  'name': 'image_2_2.jpeg'},\n",
              " {'response': 'The image depicts a futuristic concept of virtual reality and digital data integration. It features a human figure wearing a virtual reality headset, surrounded by a digital network of binary code, glowing lines, and various technology-related icons. The head is semi-transparent, suggesting a seamless fusion between human cognition and digital information. The background is dark, enhancing the vibrant blues and oranges of the digital elements, creating a sense of immersion in a virtual environment. This visual symbolizes the merging of human intelligence with advanced technology, highlighting themes of innovation and digital transformation.',\n",
              "  'name': 'image_1_3.jpeg'},\n",
              " {'response': 'The image consists of four graphs (A, B, C, D) analyzing the electrical resistivity and temperature behavior of a material with varying thickness and cooling rates. Graph A shows resistivity (ρ) vs. temperature (T) for a thickness of 51 nm at cooling rates of 1 K/min and 5 K/min, displaying distinct temperature-dependent transitions. Graph B presents similar data for a thickness of 15 nm with cooling rates of 0.3 K/min, 1 K/min, and 3 K/min, highlighting a notable inset focusing on low-temperature behavior. Graph C illustrates phase boundaries for different cooling rates (0.2, 1, 5, and 10 K/min) across temperatures, differentiating sc-NC-CDW and CCDW phases. Graph D plots the critical cooling rate (Rc) against thickness, further distinguishing between sc-NC-CDW and CCDW phases, using a color gradient for visual emphasis.',\n",
              "  'name': 'image_4_3.jpeg'},\n",
              " {'response': 'The image presents a detailed analysis of charge density waves in a layered material. Panel A shows a schematic of the atomic structure with tantalum (Ta) and sulfur (S) atoms, highlighting a star-like pattern in the crystal lattice and a 3D representation of a sample with electrical measurement setup. Panel B illustrates the evolution of charge density waves (CDW) with temperature: commensurate (CCDW) at low temperature, nearly commensurate (NCCDW) at intermediate temperature, and incommensurate (ICCDW) at high temperature. Panel C depicts the resistivity (ρ) versus temperature (T) graph for different sample thicknesses, demonstrating the phase transitions between CCDW, NCCDW, and ICCDW. Panel D is a phase diagram showing the transition temperatures and phases as a function of sample thickness, indicating regions of CCDW, NCCDW, ICCDW, and superconducting nearly commensurate CDW (sc-NC-CDW) under cooling conditions.',\n",
              "  'name': 'image_3_2.jpeg'},\n",
              " {'response': 'The image consists of three panels (a, b, c) showing phase diagrams of temperature (T) versus gate voltage (Vg) for different thicknesses (t = 14 nm, 8 nm, and 3.5 nm) of a material. Each panel illustrates various phases: NCCDW (nearly commensurate charge density wave), ICCDW (incommensurate charge density wave), CCDW (commensurate charge density wave in panel a), and SC (superconducting) regions. The background colors represent different phases: blue for NCCDW, yellow for ICCDW, and purple for CCDW in panel a. Red triangles, blue squares, and black circles with error bars indicate experimental data points, with the superconducting region magnified by a factor of 10 for clarity. The transition boundaries between phases shift as the thickness decreases from panel a to c.',\n",
              "  'name': 'image_4_4.jpeg'},\n",
              " {'response': 'The image features a phase diagram in the center, illustrating the relationship between temperature (T) in Kelvin and pressure (P) in GPa for a material exhibiting different states. The diagram shows regions labeled as CCDW & Mott state, NCCDW, Metal, and Superconductivity. The superconductivity region is highlighted in orange, with a line indicating the superconducting transition temperature (Tsc) multiplied by 10. The diagram is accompanied by four lattice structures, connected by arrows to specific regions on the graph. Each lattice depicts a hexagonal pattern with variations, possibly representing different structural phases or arrangements of the material under varying conditions of temperature and pressure. The background of the phase diagram is color-coded to distinguish the different phases.',\n",
              "  'name': 'image_4_2.jpeg'},\n",
              " {'response': 'The image depicts a graph showing the relationship between wavelength (nm) and an unspecified measured quantity on the y-axis, ranging from 0.6 to 1.2. The x-axis spans from 400 nm to 800 nm. Five curves are plotted, each representing different power densities: 10 mW/cm², 50 mW/cm², 100 mW/cm², 500 mW/cm², and 1000 mW/cm². The curves demonstrate a trend where the measured quantity increases with higher power densities across the wavelength range. The colors of the curves vary from dark red to light pink, corresponding to the increase in power density from 10 mW/cm² to 1000 mW/cm².',\n",
              "  'name': 'image_5_4.jpeg'},\n",
              " {'response': \"The image comprises four panels, each illustrating different aspects of a photophysical process. Panel (a) is a schematic diagram depicting energy levels and transitions, showing excitation and relaxation pathways with arrows and labeled parameters like \\\\( \\\\tau_{20}, \\\\tau_{21}, \\\\tau_{10} \\\\), and \\\\( n_{\\\\text{excited}} \\\\). Panel (b) is a graph plotting the percentage of a specific excited state population \\\\( n_{11} \\\\) against light intensity (mW/cm²) on a logarithmic scale, with data points and a dashed curve indicating a trend. Panels (c) and (d) present spectral data, showing the real (\\\\( \\\\epsilon'_e \\\\)) and imaginary (\\\\( \\\\epsilon''_e \\\\)) components of a dielectric function across wavelengths (400-800 nm) at varying light intensities (10 to 1000 mW/cm²). The curves demonstrate changes in optical properties with increasing intensity, with distinct color gradations representing different intensities.\",\n",
              "  'name': 'image_10_4.jpeg'},\n",
              " {'response': 'The image consists of three parts illustrating the behavior of a 1T-TaS₂ thin film under photo energy and white light exposure. In part (a), a schematic shows photo energy applied to a 1T-TaS₂ thin film, transitioning through an interlayer to a substrate. The diagram depicts a temperature gradient, with a uniform temperature at the film decreasing to room temperature across the interlayer. Part (b) illustrates the application of white light, highlighting a cross-sectional view of the film with concentric circles indicating heat distribution. Part (c) presents a graph of temperature change (ΔT) versus depth (z) for different power densities (1 W/cm², 0.5 W/cm², and 0.25 W/cm²), showing a rapid decrease in temperature through the film and substrate. An inset further details the temperature profile across the 1T-TaS₂ layer.',\n",
              "  'name': 'image_7_3.jpeg'},\n",
              " {'response': 'The image displays two intricate, tessellated patterns composed of blue and orange motifs, with arrows and labels indicating a change. On the left, the pattern labeled \"light on\" has a more uniform appearance, with a symmetrical arrangement of blue and orange shapes, featuring star-like and polygonal designs. The right side, labeled \"light off,\" shows the same shapes but with a different arrangement, creating a variation in symmetry and pattern distribution. The arrows between the patterns suggest a transformation or shift in configuration when the light is switched on or off. The design emphasizes the dynamic nature of the patterns based on the lighting condition.',\n",
              "  'name': 'image_9_2.jpeg'},\n",
              " {'response': 'The image comprises a multi-part illustration and graph related to charge-density waves (CDW) in a material. Panel A shows a schematic of the atomic structure, highlighting tantalum (Ta) and sulfur (S) atoms, with a visual representation of a layered material and a circuit diagram involving voltage and current measurement. Panel B illustrates different phases of CDW: CCDW, NCDW, and ICCDW, transitioning from low to high temperature, depicted by varying star patterns. Panel C presents a graph of resistivity (ρ) against temperature (T) for different thicknesses, indicating the transitions between CCDW, NCDW, and ICCDW phases with varying colors and line styles. Panel D shows a phase diagram of temperature versus thickness, indicating cooling trends and the regions of sc-NC-CDW, CCDW, NCDW, and ICCDW phases, with data points representing experimental observations.',\n",
              "  'name': 'image_5_5.jpeg'},\n",
              " {'response': 'The image is a graph depicting a time-dependent process, divided into two distinct phases: \"Light on\" and \"Light off.\" The x-axis represents time in microseconds (µs), ranging from 0 to 100. The y-axis appears to represent an unspecified variable. During the \"Light on\" phase (0 to approximately 50 µs), the graph shows a curve that starts high and decreases rapidly, then levels off. In the \"Light off\" phase (around 50 to 100 µs), the curve increases sharply and then plateaus. Two lines, one solid blue and one dashed orange, are plotted, indicating two sets of data or models being compared. The background is shaded to differentiate between the \"Light on\" and \"Light off\" phases.',\n",
              "  'name': 'image_6_7.jpeg'},\n",
              " {'response': 'The image shows a three-dimensional structural model of a layered material. The structure consists of multiple parallel planes, each containing a hexagonal arrangement of atoms represented by blue spheres. These planes are stacked in a repetitive sequence, with dashed lines and arrows indicating interactions or connections between the layers. The model suggests a crystalline structure, possibly depicting a type of layered compound such as graphite or a transition metal dichalcogenide, where the planes are held together by van der Waals forces. The perspective highlights the geometric pattern and spatial arrangement of the atoms within the material.',\n",
              "  'name': 'image_8_2.jpeg'},\n",
              " {'response': 'The image shows a mathematical or quantum notation symbol on a black background. The notation features a blue lowercase \"n\" followed by a vertical bar and the ket symbol \"|0⟩\". This type of notation is commonly used in quantum mechanics to represent quantum states, where \"n\" can denote a variable or quantum number and \"|0⟩\" indicates the zero state or ground state in Dirac notation. The overall appearance is simple and focused on the text.',\n",
              "  'name': 'image_10_13.jpeg'},\n",
              " {'response': 'The image is a graph depicting a curve with a logarithmic scale on both axes. The x-axis represents \"Intensity (mW/cm²)\" ranging from 1 to 1000, while the y-axis represents an unspecified quantity ranging from 0 to 40. The data points are marked with red dots, and they follow a steep upward trend as intensity increases. A green dashed line connects these points, illustrating the curve\\'s trajectory, which suggests a non-linear, possibly exponential relationship between intensity and the y-axis variable.',\n",
              "  'name': 'image_10_2.jpeg'},\n",
              " {'response': 'The image features text on a black background. The text is in a red hue and consists of two parts: an uppercase \"T\" followed by lowercase letters \"off\" and \"th.\" The arrangement and font give it a slightly artistic or stylized appearance. The simplicity of the design and the contrast between the red text and black background make the text stand out prominently.',\n",
              "  'name': 'image_6_4.jpeg'},\n",
              " {'response': 'The image consists of four panels labeled (a), (b), (c), and (d). Panel (a) is a schematic diagram showing a multi-level energy system with transitions between different energy states, involving parameters like excitation and emission represented by green arrows labeled \"hν\" and relaxation times (τ). Panel (b) presents a graph plotting percentage of excited state population (n_{1}) against intensity (mW/cm²), showing a nonlinear increase. Panels (c) and (d) display graphs of optical properties (ε\\') and (ε\\'\\') as functions of wavelength (nm) at different intensities (10 to 1000 mW/cm²), with curves indicating varying responses at these intensities. The graphs suggest a study of intensity-dependent optical behavior in a material.',\n",
              "  'name': 'image_10_3.jpeg'},\n",
              " {'response': 'The image features a geometric pattern composed of star shapes arranged in a grid. The stars are outlined and filled with alternating colors: blue and orange. The blue stars dominate the left half and extend slightly into the right, while the orange stars are concentrated in the lower right quadrant. The background consists of a lighter grid of gray stars, creating a textured appearance. The overall design is symmetrical and visually balanced, emphasizing the contrast between the two main colors.',\n",
              "  'name': 'image_9_3.jpeg'},\n",
              " {'response': 'The image features a mathematical or quantum mechanical notation on a black background. The notation consists of the letter \"n\" followed by a ket symbol \"|1⟩\" in orange font. This type of notation is typically used in quantum mechanics to represent quantum states, where \"n\" might indicate a specific state or quantum number, and \"|1⟩\" denotes a particular basis state in a quantum system. The use of a black background and orange text creates a visually striking contrast, emphasizing the notation.',\n",
              "  'name': 'image_10_12.jpeg'},\n",
              " {'response': 'The image depicts a line graph with a blue waveform pattern, displaying a series of peaks and troughs. The waveform shows periodic oscillations with a consistent frequency, though the amplitude appears to vary slightly over time. The graph has a black background, and the axes are labeled with tick marks, but no numerical values or labels are visible. The overall appearance suggests it could represent a signal or wave pattern, possibly from an oscillating system or a sound wave analysis.',\n",
              "  'name': 'image_6_2.jpeg'},\n",
              " {'response': 'The image contains two graphs, labeled A and B, depicting reflectance as a function of wavelength, ranging from 400 to 800 nm. The y-axis represents reflectance in percentage, while the x-axis shows the wavelength in nanometers. Each graph has two curves, one in red labeled \"High Intensity\" and the other in blue labeled \"Low Intensity.\" Graph A shows a gradual increase in reflectance from approximately 25% to 50% as the wavelength increases. Similarly, Graph B displays a similar trend, with reflectance increasing from around 25% to 52%. Both graphs include a circular diagram with a yellow dot at different positions, indicating potential experimental conditions or variables. The overall layout suggests a comparative analysis of reflectance under different light intensities across the given wavelength range.',\n",
              "  'name': 'image_5_8.jpeg'},\n",
              " {'response': 'The image consists of two panels labeled (a) and (b), each displaying electronic band structure diagrams along with their corresponding density of states (DOS) on the right. The energy values are plotted on the y-axis in electron volts (eV), ranging from 0.2 to -1.0 eV. The x-axis represents high-symmetry points in the Brillouin zone, labeled as Γ, M, K, and A. The blue lines depict the band structure, showing multiple bands with varying curvature. The DOS is represented by shaded areas, indicating the distribution of electronic states at each energy level. Insets in both panels show a schematic model of layered structures, likely representing the material whose band structure is being analyzed. The diagrams suggest a comparative analysis of electronic properties between the two panels.',\n",
              "  'name': 'image_8_3.jpeg'},\n",
              " {'response': \"The image presents a graph depicting the variation of certain parameters with respect to wavelength, measured in nanometers (nm) ranging from 400 to 800 nm. There are two sets of data represented in the graph, distinguished by color: orange and blue. The orange lines, labeled with symbols such as \\\\(\\\\epsilon'_e\\\\) and \\\\(\\\\epsilon''_e\\\\), show increasing trends as the wavelength increases. The blue lines, labeled with \\\\(\\\\epsilon'_o\\\\) and \\\\(\\\\epsilon''_o\\\\), also generally show increasing trends. Solid lines represent the real parts of the parameters, while dashed lines correspond to the imaginary parts. The left vertical axis scales from 0 to 0.8 and the right axis from 0 to 25. Arrows indicate the direction of increasing values for each set of data, with the orange arrow pointing left and the blue arrow pointing right.\",\n",
              "  'name': 'image_5_2.jpeg'},\n",
              " {'response': 'The image appears to depict a schematic of a layered material structure, possibly representing a study in photonics or materials science. On the left, there are several hexagonal layers depicted in different colors—yellow, blue, and red—arranged in stacks on a dark substrate. An icon of a light source labeled \"incoherent white light\" suggests that the structure is being illuminated. On the right side, there are two graphs showing the spectral response, with the x-axis labeled \"Wavelength (nm)\" ranging from 400 to 800 nm. The y-axes are labeled with symbols \\\\(\\\\epsilon\\'_e\\\\) and \\\\(\\\\epsilon\\'\\'_e\\\\), indicating different components of a material\\'s dielectric function. The graphs show several curves, indicating changes at different power densities, ranging from 10 to 1000 mW/cm². This layout suggests an analysis of material properties under varying light intensities.',\n",
              "  'name': 'image_11_2.jpeg'},\n",
              " {'response': 'The image is a graph displaying the relationship between wavelength (nm) and an unspecified variable, likely related to light absorption or intensity, for different power densities. The x-axis represents the wavelength, ranging from 400 nm to 800 nm, while the y-axis shows the variable ranging from 0 to 0.6. There are five curves on the graph, each representing different power densities: 10 mW/cm², 50 mW/cm², 100 mW/cm², 500 mW/cm², and 1000 mW/cm². The curves increase in value as the wavelength increases, with higher power densities showing a steeper increase, indicating that the variable is positively correlated with both wavelength and power density. The graph uses a color gradient from orange to red to distinguish between the different power levels.',\n",
              "  'name': 'image_5_3.jpeg'},\n",
              " {'response': \"The image is an artist's concept depicting advanced military technology with a focus on sensor integration. A soldier is equipped with wearable micro-sensors, allowing for real-time data access. Nearby, a military vehicle is shown with multiple small, low-power sensors attached, providing comprehensive environmental awareness. In the foreground, a compact unmanned aerial vehicle (UAV) features long-range sensors, contributing to the situational data available to the personnel. The scene is overlaid with colored lines representing sensor data fields, illustrating the seamless flow of information between different technological components.\",\n",
              "  'name': 'image_1_2.jpeg'},\n",
              " {'response': 'The image depicts a close-up view of a small electronic component being held by tweezers near a circuit board. The circuit board features various pathways, solder points, and components, indicating a detailed design typical of modern electronics. The electronic component in the tweezers appears to be delicate and possibly integral to the function of the circuit board. The background is blurred, focusing attention on the precision and intricacy of the task being performed, suggesting a setting related to electronics assembly or repair.',\n",
              "  'name': 'image_1_6.jpeg'},\n",
              " {'response': 'The image features a playful and creative depiction of a dolphin emerging from a smartphone screen. The smartphone, with a thin bezel and gold-colored edges, displays an image of a vibrant blue ocean. The dolphin appears to be leaping out from the water, giving the illusion of a three-dimensional effect. This imaginative composition combines elements of technology and nature, suggesting themes of connectivity and immersion in digital experiences. The overall scene is lively and visually engaging, highlighting the seamless integration of digital imagery with real-world elements.',\n",
              "  'name': 'image_1_5.jpeg'},\n",
              " {'response': \"The image presents a graph showing the relationship between resistivity (ρ) in ohm-centimeters and temperature (T) in Kelvin for a material. The graph displays a red curve with significant drops at specific temperatures, marked as \\\\( T_{\\\\text{CCDW & Mott}} \\\\), \\\\( T_{\\\\text{NCCDW}} \\\\), and \\\\( \\\\overline{T}_{\\\\text{ICCDW}} \\\\). These represent transitions in the material's phases. Inset to the right is a molecular diagram with yellow and red spheres labeled as S (Sulfur) and Ta (Tantalum), indicating the material's atomic structure. Another smaller inset shows a lattice structure. The annotations and visual elements suggest a study of charge density wave (CDW) transitions in a tantalum sulfide compound.\",\n",
              "  'name': 'image_3_4.jpeg'},\n",
              " {'response': 'The image illustrates a model of strongly electron correlated materials. It features a collection of blue circles representing electrons, enclosed within a larger circle. Red arrows between the electrons indicate Coulomb interactions, which are the forces between charged particles. The image highlights that these interactions prevent the electrons from moving freely, as noted by the text \"Electrons cannot move.\" This depiction emphasizes the concept of electron correlation in such materials, where electron movement is restricted due to strong interactions.',\n",
              "  'name': 'image_2_3.jpeg'},\n",
              " {'response': 'The image depicts a close-up view of a camera lens. The lens features several concentric rings, with the outer ring appearing larger and the inner rings progressively smaller, culminating in the glass element at the center. Reflections and light flares can be seen on the lens surface, adding a dynamic and colorful touch with hints of blue, green, and yellow. The intricate details of the lens, such as the screws and the curvature of the glass, are clearly visible, highlighting the precision and complexity of the optical instrument.',\n",
              "  'name': 'image_1_4.jpeg'},\n",
              " {'response': 'The image is a diagram illustrating the movement of electrons within a metal or semiconductor. It features a circular boundary with several blue spheres inside, representing electrons. These spheres have arrows pointing in various directions, indicating the free movement of electrons throughout the material. The label \"electron\" is associated with one of the spheres, and the text \"Electrons move free\" is positioned at the top of the image, emphasizing the concept of electron mobility. At the bottom, the words \"metal, semiconductor\" indicate the types of materials being depicted.',\n",
              "  'name': 'image_2_2.jpeg'},\n",
              " {'response': 'The image depicts a futuristic representation of technology and virtual reality. A human figure is shown wearing a virtual reality headset, with digital elements and binary code interwoven throughout the silhouette. The imagery suggests a blend of human and digital worlds, with glowing lines and abstract symbols signifying data and connectivity. The background features geometric shapes and network-like structures, enhancing the theme of advanced technology and immersive virtual experiences. The overall color scheme includes deep blues and vibrant oranges, creating a striking contrast that highlights the technological motif.',\n",
              "  'name': 'image_1_3.jpeg'},\n",
              " {'response': 'The image consists of four graphs, labeled A through D, depicting electrical resistivity and temperature relationships in materials with varying thickness and cooling rates. Graph A shows resistivity (\\\\(\\\\rho\\\\)) versus temperature (T) for a thickness of 51 nm, with two different cooling rates (1 K/min and 5 K/min). Graph B presents similar data for a thickness of 15 nm, with cooling rates of 0.3 K/min, 1 K/min, and 3 K/min, and includes a zoomed-in inset. Graph C illustrates a phase diagram with temperature versus cooling rate for different thicknesses, highlighting regions labeled \"sc-NC-CDW\" and \"CCDW\". Graph D plots the critical cooling rate (\\\\(R_c\\\\)) against thickness, showing transitions between the two phases. The graphs help visualize phase transitions and resistivity variations with temperature, thickness, and cooling rates.',\n",
              "  'name': 'image_4_3.jpeg'},\n",
              " {'response': 'The image contains a scientific diagram illustrating charge density wave (CDW) phases in a tantalum disulfide (TaS₂) material. Panel A shows the atomic structure of TaS₂, with tantalum (Ta) and sulfur (S) atoms depicted. An inset highlights the star-like pattern of the CDW at low temperatures. Panel B displays the evolution of the CDW phases with temperature, transitioning from commensurate (CCDW) to nearly commensurate (NCCDW) and incommensurate (ICCDW) phases. Panel C presents a graph of resistivity (ρ) versus temperature (T) for varying thicknesses, indicating different CDW transitions. Panel D maps the phase diagram, showing the temperature and thickness dependence of the CDW phases, illustrating the transitions as thickness changes.',\n",
              "  'name': 'image_3_2.jpeg'},\n",
              " {'response': 'The image consists of three panels, labeled a, b, and c, depicting phase diagrams with temperature (T) in Kelvin on the vertical axis and gate voltage (Vg) in volts on the horizontal axis. Each panel represents a different thickness (t) of a material: 14 nm for panel a, 8 nm for panel b, and 3.5 nm for panel c. The diagrams illustrate regions labeled as NCCDW (light blue), ICCDW (light green), CCDW (purple), and SC (orange). In panel a, the CCDW and SC regions are prominent at lower temperatures, while the NCCDW occupies most of the upper area. Panel b shows a similar pattern with the SC region marked by black circles, while panel c highlights a transition from NCCDW to ICCDW, with an insulating region emerging at higher voltages. Red triangles indicate experimental data points.',\n",
              "  'name': 'image_4_4.jpeg'},\n",
              " {'response': 'The image presents a phase diagram and related structural patterns. The central graph plots temperature (T) in Kelvin against pressure (P) in GPa. Different phases are indicated: \"CCDW & Mott state\" in the red and green areas at lower pressures, transitioning to \"NCCDW\" in blue, \"Metal\" in light blue, and \"Superconductivity\" in orange at higher pressures. The line labeled \\\\(T_{sc} \\\\times 10\\\\) suggests a temperature scaling for superconductivity. Surrounding the graph are four diagrams showing lattice structures, likely representing different atomic arrangements corresponding to the phases in the graph. These structures have hexagonal patterns, with variations in shading and connectivity. The image conveys the relationship between pressure and temperature in determining the material\\'s electronic phases.',\n",
              "  'name': 'image_4_2.jpeg'},\n",
              " {'response': 'The image is a graph displaying the relationship between wavelength (in nanometers) and an unspecified variable, likely related to intensity or absorption, across different power densities. The x-axis represents wavelength, ranging from 400 to 800 nm, and the y-axis appears to measure an arbitrary unit between 0.6 and 1.2. There are five curves depicted, each corresponding to a different power density: 10, 50, 100, 500, and 1000 mW/cm². The curves show an upward trend, indicating that the value on the y-axis increases with wavelength for each power density. The curves are color-coded in varying shades of red, with higher power densities represented by brighter shades.',\n",
              "  'name': 'image_5_4.jpeg'},\n",
              " {'response': \"The image contains four panels illustrating a study on optical properties. Panel (a) is a diagram showing energy level transitions, with labeled arrows indicating processes such as absorption (hν), radiative decay (R), and relaxation times (τ). Panel (b) is a graph plotting \\\\( n_{11} \\\\) (%) against intensity (mW/cm²), showing a nonlinear increase with intensity, represented by a green dashed curve through red data points. Panels (c) and (d) display graphs of optical parameters \\\\( \\\\epsilon_e' \\\\) and \\\\( \\\\epsilon_e'' \\\\) versus wavelength (nm) across different intensities (10, 50, 100, 500, 1000 mW/cm²). Both graphs show trends with multiple lines, indicating changes in optical responses with varying intensity, with wavelengths ranging from 400 to 800 nm.\",\n",
              "  'name': 'image_10_4.jpeg'},\n",
              " {'response': 'The image consists of three parts illustrating the thermal and optical properties of a 1T-TaS₂ thin film. Part (a) shows a diagram of the thin film and substrate setup, where photo energy is absorbed by the 1T-TaS₂ film, leading to a uniform temperature change. The energy transfers through the interlayer to the substrate, depicted by blue arrows. Part (b) illustrates a top view of the setup, showing white light incident on the film, with concentric circles indicating the spread of heat or light intensity. Part (c) displays a graph of temperature change (ΔT) versus depth (z) for different power densities (1 W/cm², 0.5 W/cm², 0.25 W/cm²), showing how the temperature decreases from the film to the substrate. An inset focuses on the temperature change in the 1T-TaS₂ film, emphasizing its thermal response at different power levels.',\n",
              "  'name': 'image_7_3.jpeg'},\n",
              " {'response': 'The image features two complex geometric patterns composed of interlocking shapes in blue and orange. The pattern on the left is labeled \"light on,\" and the one on the right is labeled \"light off.\" Arrows point between the two patterns, indicating a transformation process. The design consists of repeating star-like and polygonal shapes that shift in orientation and color distribution between the two states. The patterns suggest a dynamic interplay of symmetry and structure, which changes with the presence or absence of light.',\n",
              "  'name': 'image_9_2.jpeg'},\n",
              " {'response': 'The image consists of several panels depicting the structural and electronic properties of a material undergoing different charge density wave (CDW) phases. Panel A shows a schematic of the atomic arrangement, highlighting tantalum (Ta) and sulfur (S) atoms, and includes an inset with a zoomed-in lattice structure and a diagram of a device setup for measurement. Panel B illustrates three phases: CCDW (commensurate CDW) at low temperatures, NCCDW (nearly commensurate CDW) at intermediate temperatures, and ICCDW (incommensurate CDW) at high temperatures, represented by different pattern arrangements. Panel C presents a graph plotting resistivity (ρ) against temperature (T) for various film thicknesses, indicating phase transitions between CDW states. Panel D displays a phase diagram correlating thickness with temperature, showing the stability regions of different CDW phases as the material cools at a rate of 1 K/min.',\n",
              "  'name': 'image_5_5.jpeg'},\n",
              " {'response': 'The image is a graph displaying a transition between two states labeled \"Light on\" and \"Light off\" over time, measured in microseconds (µs). The x-axis represents time, ranging from 0 to 100 µs, while the y-axis appears to represent an unspecified variable. The graph shows two curves, one in orange and another in blue, which illustrate the change in the variable as the light transitions from being on to off. Initially, during the \"Light on\" phase, both curves start at a higher value and gradually decrease, indicating a drop in the variable. Around 50 µs, the light switches off, and the curves rise sharply, reaching a plateau in the \"Light off\" phase. The background color of the graph changes from light to dark to visually indicate the transition from \"Light on\" to \"Light off.\"',\n",
              "  'name': 'image_6_7.jpeg'},\n",
              " {'response': 'The image depicts a three-dimensional representation of a layered crystal structure. It shows multiple parallel layers composed of a series of interconnected hexagonal units. The layers are stacked vertically, with each layer connected by dashed lines, suggesting interactions or bonds between them. Each vertex of the hexagons is marked by a blue sphere, possibly indicating atoms or ions, while the planes are shaded in gray, representing the atomic or molecular planes. The arrangement suggests a repetitive, orderly pattern typical of crystalline materials.',\n",
              "  'name': 'image_8_2.jpeg'},\n",
              " {'response': 'The image features a mathematical expression in blue on a black background. The expression consists of the letter \"n\" followed by a vertical line and the number \"0\" enclosed in angled brackets, resembling a notation used in quantum mechanics, specifically a ket notation, which is part of the bra-ket notation system. This is often used to describe quantum states in physics. The overall aesthetic is simple and focused, with the blue text contrasting against the dark background.',\n",
              "  'name': 'image_10_13.jpeg'},\n",
              " {'response': 'The image depicts a graph with a logarithmic scale on both axes. The x-axis represents intensity in milliwatts per square centimeter (mW/cm²), ranging from 1 to 1000, while the y-axis represents an unspecified variable ranging from 0 to 40. The data points are marked with red dots, and a green dashed line connects these points, indicating a trend. The graph shows a positive correlation, with the y-values increasing as the intensity increases, forming a curve that steepens as it progresses to higher intensity values.',\n",
              "  'name': 'image_10_2.jpeg'},\n",
              " {'response': 'The image features text on a black background. The text is displayed in a dark orange color and reads \"off\" and \"th,\" with each part positioned in a way that suggests a possible word or phrase. The letters are stylized, with a slightly italicized and serif font, giving the text a distinctive appearance against the stark contrast of the black background. The simplicity of the design focuses attention on the text itself.',\n",
              "  'name': 'image_6_4.jpeg'},\n",
              " {'response': \"The image contains a schematic diagram and several graphs related to an optical or photonic study. Part (a) illustrates a process involving energy levels, excitation, and relaxation pathways with symbols like \\\\(\\\\tau\\\\) and \\\\(\\\\eta\\\\), possibly representing time constants and efficiencies. Part (b) is a graph showing the relationship between intensity (in mW/cm²) and the percentage of an excited state, \\\\(n_{|1\\\\rangle}\\\\), with a green dashed trend line indicating a nonlinear increase. Parts (c) and (d) display graphs of spectral data, where \\\\( \\\\epsilon'_e \\\\) and \\\\( \\\\epsilon''_e \\\\) are plotted against wavelength (nm) for different intensities, ranging from 10 to 1000 mW/cm². The curves show variations in optical properties with intensity, likely related to absorption or emission characteristics.\",\n",
              "  'name': 'image_10_3.jpeg'},\n",
              " {'response': 'The image features a geometric pattern composed of multiple six-pointed stars. The stars are arranged in clusters, with the majority outlined in blue and a significant section outlined in orange. The blue stars form two larger clusters, while the orange stars create a slightly smaller cluster. Each star is filled with a white center, and the entire pattern is set against a background of small, light gray dots, which are also arranged in a grid-like pattern. One small cluster of red stars is positioned on the left side of the image. The arrangement creates a visually engaging and repetitive design.',\n",
              "  'name': 'image_9_3.jpeg'},\n",
              " {'response': 'The image displays a mathematical notation prominently featuring the letter \"n\" followed by a vertical line and a number \"1\" enclosed in angle brackets. The text is presented in an orange color against a black background, giving it a distinct and clear appearance. This style of notation is often associated with quantum mechanics or linear algebra, where it might represent a state vector or a certain mathematical expression. The simplicity of the design allows for easy readability and a focus on the symbolic content.',\n",
              "  'name': 'image_10_12.jpeg'},\n",
              " {'response': 'The image displays a graph illustrating a waveform with a series of oscillations. The waveform is depicted in blue against a black background. It appears to have a repeating pattern, with each cycle showing a sharp increase followed by a gradual decrease, creating a jagged, sawtooth-like appearance. The horizontal axis likely represents time, while the vertical axis indicates amplitude or another variable. The consistent nature of the peaks and troughs suggests a regular periodic signal. Overall, the graph conveys a sense of rhythmic and continuous fluctuation.',\n",
              "  'name': 'image_6_2.jpeg'},\n",
              " {'response': 'The image features the text \"on τ th\" displayed in a bold, orange font against a black background. The letters have a slightly italicized style and are prominently centered within the image. The use of the Greek letter \"τ\" adds a unique element to the composition, creating an intriguing visual contrast with the standard Latin alphabet letters. The overall color scheme and design lend a striking and modern appearance to the text.',\n",
              "  'name': 'image_6_3.jpeg'},\n",
              " {'response': 'The image displays the word \"Nexcited\" in a stylized font. The text is presented in a golden-yellow color against a black background, giving it a striking and bold appearance. The font style is cursive, adding an artistic flair to the overall design. The contrast between the bright text and dark background makes the word stand out prominently.',\n",
              "  'name': 'image_10_14.jpeg'},\n",
              " {'response': 'The image consists of two graphs labeled A and B, each showing reflectance (%) on the y-axis and wavelength (nm) on the x-axis, ranging from 400 to 800 nm. Both graphs display two lines: one in red representing \"High Intensity\" and the other in blue representing \"Low Intensity.\" In graph A, the red line starts at a lower reflectance percentage and rises steadily, while the blue line follows a similar trend but remains lower. Graph B shows a similar pattern, with both lines beginning at around 25% reflectance and peaking just above 45%. Each graph also contains a circular inset with a cross, depicting a yellow dot positioned differently in each inset.',\n",
              "  'name': 'image_5_8.jpeg'},\n",
              " {'response': \"The image consists of two panels (a) and (b), each displaying a band structure diagram alongside a density of states (DOS) graph. The horizontal axes of the band structures are labeled with symmetry points Γ, M, K, and A, relevant to the material's Brillouin zone. The vertical axes represent energy levels in electron volts (eV). In both panels, blue lines indicate the electronic band structure, while the DOS is depicted as a shaded area to the right. Insets in each panel illustrate a layered structural model of a material, suggesting a focus on layered compounds or 2D materials. The overall setup indicates a comparison of electronic properties between two different structural configurations or materials.\",\n",
              "  'name': 'image_8_3.jpeg'},\n",
              " {'response': \"The image is a graph plotting data across a range of wavelengths from 400 to 800 nanometers. The graph features two sets of data, represented by two colors: orange and blue. Each color displays two lines, one solid and one dashed. The orange lines are labeled with symbols \\\\( \\\\epsilon'_{e} \\\\) (solid) and \\\\( \\\\epsilon''_{e} \\\\) (dashed), while the blue lines are labeled \\\\( \\\\epsilon'_{o} \\\\) (solid) and \\\\( \\\\epsilon''_{o} \\\\) (dashed). The left vertical axis, associated with the orange lines, ranges from 0 to 0.8, and the right vertical axis, associated with the blue lines, ranges from 0 to 20. Arrows indicate the direction of increasing values for each color: left for orange and right for blue. The graph likely represents the variation of certain properties related to the material's optical characteristics as a function of wavelength.\",\n",
              "  'name': 'image_5_2.jpeg'},\n",
              " {'response': 'The image displays text with a dark background. The text is written in a stylized blue font, and it reads \"on Tel.\" The letters are arranged on two lines, with \"on\" positioned above \"Tel.\" The font has a decorative and slightly italicized appearance, adding a dynamic quality to the text against the contrasting black backdrop.',\n",
              "  'name': 'image_6_5.jpeg'},\n",
              " {'response': 'The image depicts a schematic illustration and graphs related to the interaction of incoherent white light with a layered material structure. On the left, there are three distinct layers of star-shaped structures in yellow, red, and blue, each stacked on a black base, representing different material compositions or states. An icon of a light source labeled \"incoherent white light\" is shown illuminating the structures. On the right, there are two graphs showing the electronic response (ε’e and ε’’e) as a function of wavelength (nm) for different power densities (10 to 1000 mW/cm²). The curves in the graphs indicate how the electronic properties change with varying light intensities and wavelengths, suggesting an analysis of material behavior under optical excitation.',\n",
              "  'name': 'image_11_2.jpeg'},\n",
              " {'response': 'The image is a graph depicting the relationship between wavelength and intensity for different power densities. The x-axis represents the wavelength in nanometers (nm), ranging from 400 to 800 nm. The y-axis indicates an unspecified intensity measurement, ranging from 0 to 0.6. The graph contains five curves, each representing a different power density: 10 mW/cm², 50 mW/cm², 100 mW/cm², 500 mW/cm², and 1000 mW/cm². As the power density increases, the curves rise more sharply, especially at higher wavelengths. The curves are color-coded from darker to lighter shades of red as the power density increases.',\n",
              "  'name': 'image_5_3.jpeg'}]"
            ]
          },
          "metadata": {},
          "execution_count": 32
        }
      ]
    },
    {
      "cell_type": "code",
      "source": [
        "len(img_data)"
      ],
      "metadata": {
        "id": "lDKP-ESyvpZt",
        "colab": {
          "base_uri": "https://localhost:8080/"
        },
        "outputId": "894290ec-dc99-4a90-9781-db52e1136bc6"
      },
      "execution_count": null,
      "outputs": [
        {
          "output_type": "execute_result",
          "data": {
            "text/plain": [
              "63"
            ]
          },
          "metadata": {},
          "execution_count": 33
        }
      ]
    },
    {
      "cell_type": "markdown",
      "source": [
        "As you can see the total images of the data are 63 and only 29 are relevant to the context."
      ],
      "metadata": {
        "id": "_E52_P5Zho8r"
      }
    },
    {
      "cell_type": "code",
      "source": [
        "len(relevant_images)"
      ],
      "metadata": {
        "colab": {
          "base_uri": "https://localhost:8080/"
        },
        "id": "Q7x73SfrnbaR",
        "outputId": "5266fc45-cc92-425d-8472-6e9936192bf0"
      },
      "execution_count": null,
      "outputs": [
        {
          "output_type": "execute_result",
          "data": {
            "text/plain": [
              "29"
            ]
          },
          "metadata": {},
          "execution_count": 17
        }
      ]
    }
  ]
}